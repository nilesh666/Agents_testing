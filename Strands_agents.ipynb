{
  "nbformat": 4,
  "nbformat_minor": 0,
  "metadata": {
    "colab": {
      "provenance": []
    },
    "kernelspec": {
      "name": "python3",
      "display_name": "Python 3"
    },
    "language_info": {
      "name": "python"
    }
  },
  "cells": [
    {
      "cell_type": "code",
      "execution_count": 1,
      "metadata": {
        "colab": {
          "base_uri": "https://localhost:8080/"
        },
        "collapsed": true,
        "id": "dy0KxD8sbmD0",
        "outputId": "ebe5702d-7d7d-4a0c-cddc-3f7183386e55"
      },
      "outputs": [
        {
          "output_type": "stream",
          "name": "stdout",
          "text": [
            "\u001b[2K     \u001b[90m━━━━━━━━━━━━━━━━━━━━━━━━━━━━━━━━━━━━━━━━\u001b[0m \u001b[32m48.7/48.7 kB\u001b[0m \u001b[31m3.0 MB/s\u001b[0m eta \u001b[36m0:00:00\u001b[0m\n",
            "\u001b[2K   \u001b[90m━━━━━━━━━━━━━━━━━━━━━━━━━━━━━━━━━━━━━━━━\u001b[0m \u001b[32m216.0/216.0 kB\u001b[0m \u001b[31m17.8 MB/s\u001b[0m eta \u001b[36m0:00:00\u001b[0m\n",
            "\u001b[2K   \u001b[90m━━━━━━━━━━━━━━━━━━━━━━━━━━━━━━━━━━━━━━━━\u001b[0m \u001b[32m298.0/298.0 kB\u001b[0m \u001b[31m24.2 MB/s\u001b[0m eta \u001b[36m0:00:00\u001b[0m\n",
            "\u001b[2K   \u001b[90m━━━━━━━━━━━━━━━━━━━━━━━━━━━━━━━━━━━━━━━━\u001b[0m \u001b[32m139.3/139.3 kB\u001b[0m \u001b[31m11.0 MB/s\u001b[0m eta \u001b[36m0:00:00\u001b[0m\n",
            "\u001b[2K   \u001b[90m━━━━━━━━━━━━━━━━━━━━━━━━━━━━━━━━━━━━━━━━\u001b[0m \u001b[32m14.1/14.1 MB\u001b[0m \u001b[31m111.3 MB/s\u001b[0m eta \u001b[36m0:00:00\u001b[0m\n",
            "\u001b[2K   \u001b[90m━━━━━━━━━━━━━━━━━━━━━━━━━━━━━━━━━━━━━━━━\u001b[0m \u001b[32m119.7/119.7 kB\u001b[0m \u001b[31m9.3 MB/s\u001b[0m eta \u001b[36m0:00:00\u001b[0m\n",
            "\u001b[2K   \u001b[90m━━━━━━━━━━━━━━━━━━━━━━━━━━━━━━━━━━━━━━━━\u001b[0m \u001b[32m243.4/243.4 kB\u001b[0m \u001b[31m17.7 MB/s\u001b[0m eta \u001b[36m0:00:00\u001b[0m\n",
            "\u001b[2K   \u001b[90m━━━━━━━━━━━━━━━━━━━━━━━━━━━━━━━━━━━━━━━━\u001b[0m \u001b[32m230.1/230.1 kB\u001b[0m \u001b[31m16.1 MB/s\u001b[0m eta \u001b[36m0:00:00\u001b[0m\n",
            "\u001b[2K   \u001b[90m━━━━━━━━━━━━━━━━━━━━━━━━━━━━━━━━━━━━━━━━\u001b[0m \u001b[32m85.7/85.7 kB\u001b[0m \u001b[31m6.6 MB/s\u001b[0m eta \u001b[36m0:00:00\u001b[0m\n",
            "\u001b[2K   \u001b[90m━━━━━━━━━━━━━━━━━━━━━━━━━━━━━━━━━━━━━━━━\u001b[0m \u001b[32m302.8/302.8 kB\u001b[0m \u001b[31m22.4 MB/s\u001b[0m eta \u001b[36m0:00:00\u001b[0m\n",
            "\u001b[?25h\u001b[31mERROR: pip's dependency resolver does not currently take into account all the packages that are installed. This behaviour is the source of the following dependency conflicts.\n",
            "google-adk 1.14.1 requires tenacity<9.0.0,>=8.0.0, but you have tenacity 9.1.2 which is incompatible.\n",
            "bigframes 2.24.0 requires rich<14,>=12.4.4, but you have rich 14.2.0 which is incompatible.\n",
            "datasets 4.0.0 requires dill<0.3.9,>=0.3.0, but you have dill 0.4.0 which is incompatible.\u001b[0m\u001b[31m\n",
            "\u001b[0m"
          ]
        }
      ],
      "source": [
        "!pip install -qU strands-agents strands-agents-tools"
      ]
    },
    {
      "cell_type": "code",
      "source": [
        "from strands import Agent\n",
        "from strands.models.gemini import GeminiModel\n",
        "from strands_tools import calculator\n",
        "\n",
        "model = GeminiModel(\n",
        "    client_args={\n",
        "        \"api_key\": \"api\",\n",
        "    },\n",
        "    # **model_config\n",
        "    model_id=\"gemini-2.5-flash\",\n",
        "    params={\n",
        "        # some sample model parameters\n",
        "        \"temperature\": 0.7,\n",
        "        \"max_output_tokens\": 2048,\n",
        "        \"top_p\": 0.9,\n",
        "        \"top_k\": 40\n",
        "    }\n",
        ")\n",
        "\n",
        "agent = Agent(model=model, tools=[calculator])\n",
        "response = agent(\"What is 2+2\")\n",
        "print(response)"
      ],
      "metadata": {
        "colab": {
          "base_uri": "https://localhost:8080/",
          "height": 265
        },
        "id": "hReSkvKNdSFp",
        "outputId": "413596d7-ecef-4c58-aca9-9bdbdefd94d4"
      },
      "execution_count": 3,
      "outputs": [
        {
          "output_type": "stream",
          "name": "stdout",
          "text": [
            "\n",
            "Tool #1: calculator\n"
          ]
        },
        {
          "output_type": "display_data",
          "data": {
            "text/plain": [
              "\u001b[34m╭─\u001b[0m\u001b[34m─────────────────────────────────────────────\u001b[0m\u001b[34m \u001b[0m\u001b[1;34mCalculation Result\u001b[0m\u001b[34m \u001b[0m\u001b[34m──────────────────────────────────────────────\u001b[0m\u001b[34m─╮\u001b[0m\n",
              "\u001b[34m│\u001b[0m                                                                                                                 \u001b[34m│\u001b[0m\n",
              "\u001b[34m│\u001b[0m  ╭───────────┬─────────────────────╮                                                                            \u001b[34m│\u001b[0m\n",
              "\u001b[34m│\u001b[0m  │\u001b[36m \u001b[0m\u001b[36mOperation\u001b[0m\u001b[36m \u001b[0m│\u001b[32m \u001b[0m\u001b[32mEvaluate Expression\u001b[0m\u001b[32m \u001b[0m│                                                                            \u001b[34m│\u001b[0m\n",
              "\u001b[34m│\u001b[0m  │\u001b[36m \u001b[0m\u001b[36mInput    \u001b[0m\u001b[36m \u001b[0m│\u001b[32m \u001b[0m\u001b[32m2+2                \u001b[0m\u001b[32m \u001b[0m│                                                                            \u001b[34m│\u001b[0m\n",
              "\u001b[34m│\u001b[0m  │\u001b[36m \u001b[0m\u001b[36mResult   \u001b[0m\u001b[36m \u001b[0m│\u001b[32m \u001b[0m\u001b[32m4                  \u001b[0m\u001b[32m \u001b[0m│                                                                            \u001b[34m│\u001b[0m\n",
              "\u001b[34m│\u001b[0m  ╰───────────┴─────────────────────╯                                                                            \u001b[34m│\u001b[0m\n",
              "\u001b[34m│\u001b[0m                                                                                                                 \u001b[34m│\u001b[0m\n",
              "\u001b[34m╰─────────────────────────────────────────────────────────────────────────────────────────────────────────────────╯\u001b[0m\n"
            ],
            "text/html": [
              "<pre style=\"white-space:pre;overflow-x:auto;line-height:normal;font-family:Menlo,'DejaVu Sans Mono',consolas,'Courier New',monospace\"><span style=\"color: #000080; text-decoration-color: #000080\">╭────────────────────────────────────────────── </span><span style=\"color: #000080; text-decoration-color: #000080; font-weight: bold\">Calculation Result</span><span style=\"color: #000080; text-decoration-color: #000080\"> ───────────────────────────────────────────────╮</span>\n",
              "<span style=\"color: #000080; text-decoration-color: #000080\">│</span>                                                                                                                 <span style=\"color: #000080; text-decoration-color: #000080\">│</span>\n",
              "<span style=\"color: #000080; text-decoration-color: #000080\">│</span>  ╭───────────┬─────────────────────╮                                                                            <span style=\"color: #000080; text-decoration-color: #000080\">│</span>\n",
              "<span style=\"color: #000080; text-decoration-color: #000080\">│</span>  │<span style=\"color: #008080; text-decoration-color: #008080\"> Operation </span>│<span style=\"color: #008000; text-decoration-color: #008000\"> Evaluate Expression </span>│                                                                            <span style=\"color: #000080; text-decoration-color: #000080\">│</span>\n",
              "<span style=\"color: #000080; text-decoration-color: #000080\">│</span>  │<span style=\"color: #008080; text-decoration-color: #008080\"> Input     </span>│<span style=\"color: #008000; text-decoration-color: #008000\"> 2+2                 </span>│                                                                            <span style=\"color: #000080; text-decoration-color: #000080\">│</span>\n",
              "<span style=\"color: #000080; text-decoration-color: #000080\">│</span>  │<span style=\"color: #008080; text-decoration-color: #008080\"> Result    </span>│<span style=\"color: #008000; text-decoration-color: #008000\"> 4                   </span>│                                                                            <span style=\"color: #000080; text-decoration-color: #000080\">│</span>\n",
              "<span style=\"color: #000080; text-decoration-color: #000080\">│</span>  ╰───────────┴─────────────────────╯                                                                            <span style=\"color: #000080; text-decoration-color: #000080\">│</span>\n",
              "<span style=\"color: #000080; text-decoration-color: #000080\">│</span>                                                                                                                 <span style=\"color: #000080; text-decoration-color: #000080\">│</span>\n",
              "<span style=\"color: #000080; text-decoration-color: #000080\">╰─────────────────────────────────────────────────────────────────────────────────────────────────────────────────╯</span>\n",
              "</pre>\n"
            ]
          },
          "metadata": {}
        },
        {
          "output_type": "stream",
          "name": "stdout",
          "text": [
            "2 + 2 = 4.\n",
            "2 + 2 = 4.\n",
            "\n",
            "\n"
          ]
        }
      ]
    },
    {
      "cell_type": "code",
      "source": [
        "from strands import Agent, tool\n",
        "from strands_tools import calculator, current_time\n",
        "\n",
        "# Define a custom tool as a Python function using the @tool decorator\n",
        "@tool\n",
        "def letter_counter(word: str, letter: str) -> int:\n",
        "    \"\"\"\n",
        "    Count occurrences of a specific letter in a word.\n",
        "\n",
        "    Args:\n",
        "        word (str): The input word to search in\n",
        "        letter (str): The specific letter to count\n",
        "\n",
        "    Returns:\n",
        "        int: The number of occurrences of the letter in the word\n",
        "    \"\"\"\n",
        "    if not isinstance(word, str) or not isinstance(letter, str):\n",
        "        return 0\n",
        "\n",
        "    if len(letter) != 1:\n",
        "        raise ValueError(\"The 'letter' parameter must be a single character\")\n",
        "\n",
        "    return word.lower().count(letter.lower())\n",
        "\n",
        "# Create an agent with tools from the community-driven strands-tools package\n",
        "# as well as our custom letter_counter tool\n",
        "agent = Agent(model = model, tools=[calculator, current_time, letter_counter])\n",
        "\n",
        "# Ask the agent a question that uses the available tools\n",
        "message = \"\"\"\n",
        "I have 4 requests:\n",
        "\n",
        "1. What is the time right now?\n",
        "2. Calculate 3111696 / 74088\n",
        "3. Tell me how many letter R's are in the word \"strawberry\" 🍓\n",
        "\"\"\"\n",
        "agent(message)"
      ],
      "metadata": {
        "colab": {
          "base_uri": "https://localhost:8080/",
          "height": 456
        },
        "id": "ZnN4C7rYcPEM",
        "outputId": "f880c8a9-6583-4092-b83c-f6a6bef0d0f9"
      },
      "execution_count": 4,
      "outputs": [
        {
          "output_type": "stream",
          "name": "stdout",
          "text": [
            "\n",
            "Tool #1: current_time\n",
            "\n",
            "Tool #2: calculator\n"
          ]
        },
        {
          "output_type": "display_data",
          "data": {
            "text/plain": [
              "\u001b[34m╭─\u001b[0m\u001b[34m─────────────────────────────────────────────\u001b[0m\u001b[34m \u001b[0m\u001b[1;34mCalculation Result\u001b[0m\u001b[34m \u001b[0m\u001b[34m──────────────────────────────────────────────\u001b[0m\u001b[34m─╮\u001b[0m\n",
              "\u001b[34m│\u001b[0m                                                                                                                 \u001b[34m│\u001b[0m\n",
              "\u001b[34m│\u001b[0m  ╭───────────┬─────────────────────╮                                                                            \u001b[34m│\u001b[0m\n",
              "\u001b[34m│\u001b[0m  │\u001b[36m \u001b[0m\u001b[36mOperation\u001b[0m\u001b[36m \u001b[0m│\u001b[32m \u001b[0m\u001b[32mEvaluate Expression\u001b[0m\u001b[32m \u001b[0m│                                                                            \u001b[34m│\u001b[0m\n",
              "\u001b[34m│\u001b[0m  │\u001b[36m \u001b[0m\u001b[36mInput    \u001b[0m\u001b[36m \u001b[0m│\u001b[32m \u001b[0m\u001b[32m3111696 / 74088    \u001b[0m\u001b[32m \u001b[0m│                                                                            \u001b[34m│\u001b[0m\n",
              "\u001b[34m│\u001b[0m  │\u001b[36m \u001b[0m\u001b[36mResult   \u001b[0m\u001b[36m \u001b[0m│\u001b[32m \u001b[0m\u001b[32m42                 \u001b[0m\u001b[32m \u001b[0m│                                                                            \u001b[34m│\u001b[0m\n",
              "\u001b[34m│\u001b[0m  ╰───────────┴─────────────────────╯                                                                            \u001b[34m│\u001b[0m\n",
              "\u001b[34m│\u001b[0m                                                                                                                 \u001b[34m│\u001b[0m\n",
              "\u001b[34m╰─────────────────────────────────────────────────────────────────────────────────────────────────────────────────╯\u001b[0m\n"
            ],
            "text/html": [
              "<pre style=\"white-space:pre;overflow-x:auto;line-height:normal;font-family:Menlo,'DejaVu Sans Mono',consolas,'Courier New',monospace\"><span style=\"color: #000080; text-decoration-color: #000080\">╭────────────────────────────────────────────── </span><span style=\"color: #000080; text-decoration-color: #000080; font-weight: bold\">Calculation Result</span><span style=\"color: #000080; text-decoration-color: #000080\"> ───────────────────────────────────────────────╮</span>\n",
              "<span style=\"color: #000080; text-decoration-color: #000080\">│</span>                                                                                                                 <span style=\"color: #000080; text-decoration-color: #000080\">│</span>\n",
              "<span style=\"color: #000080; text-decoration-color: #000080\">│</span>  ╭───────────┬─────────────────────╮                                                                            <span style=\"color: #000080; text-decoration-color: #000080\">│</span>\n",
              "<span style=\"color: #000080; text-decoration-color: #000080\">│</span>  │<span style=\"color: #008080; text-decoration-color: #008080\"> Operation </span>│<span style=\"color: #008000; text-decoration-color: #008000\"> Evaluate Expression </span>│                                                                            <span style=\"color: #000080; text-decoration-color: #000080\">│</span>\n",
              "<span style=\"color: #000080; text-decoration-color: #000080\">│</span>  │<span style=\"color: #008080; text-decoration-color: #008080\"> Input     </span>│<span style=\"color: #008000; text-decoration-color: #008000\"> 3111696 / 74088     </span>│                                                                            <span style=\"color: #000080; text-decoration-color: #000080\">│</span>\n",
              "<span style=\"color: #000080; text-decoration-color: #000080\">│</span>  │<span style=\"color: #008080; text-decoration-color: #008080\"> Result    </span>│<span style=\"color: #008000; text-decoration-color: #008000\"> 42                  </span>│                                                                            <span style=\"color: #000080; text-decoration-color: #000080\">│</span>\n",
              "<span style=\"color: #000080; text-decoration-color: #000080\">│</span>  ╰───────────┴─────────────────────╯                                                                            <span style=\"color: #000080; text-decoration-color: #000080\">│</span>\n",
              "<span style=\"color: #000080; text-decoration-color: #000080\">│</span>                                                                                                                 <span style=\"color: #000080; text-decoration-color: #000080\">│</span>\n",
              "<span style=\"color: #000080; text-decoration-color: #000080\">╰─────────────────────────────────────────────────────────────────────────────────────────────────────────────────╯</span>\n",
              "</pre>\n"
            ]
          },
          "metadata": {}
        },
        {
          "output_type": "stream",
          "name": "stdout",
          "text": [
            "\n",
            "Tool #3: letter_counter\n",
            "The current time is 2025-10-15T01:23:09.815507+00:00.\n",
            "3111696 / 74088 = 42.\n",
            "The letter \"r\" appears 3 times in the word \"strawberry\"."
          ]
        },
        {
          "output_type": "execute_result",
          "data": {
            "text/plain": [
              "AgentResult(stop_reason='end_turn', message={'role': 'assistant', 'content': [{'text': 'The current time is 2025-10-15T01:23:09.815507+00:00.\\n3111696 / 74088 = 42.\\nThe letter \"r\" appears 3 times in the word \"strawberry\".'}]}, metrics=EventLoopMetrics(cycle_count=4, tool_metrics={'current_time': ToolMetrics(tool={'toolUseId': 'current_time', 'name': 'current_time', 'input': {}}, call_count=1, success_count=1, error_count=0, total_time=0.001007080078125), 'calculator': ToolMetrics(tool={'toolUseId': 'calculator', 'name': 'calculator', 'input': {'expression': '3111696 / 74088'}}, call_count=1, success_count=1, error_count=0, total_time=0.011116743087768555), 'letter_counter': ToolMetrics(tool={'toolUseId': 'letter_counter', 'name': 'letter_counter', 'input': {'word': 'strawberry', 'letter': 'r'}}, call_count=1, success_count=1, error_count=0, total_time=0.0008893013000488281)}, cycle_durations=[1.4206185340881348], traces=[<strands.telemetry.metrics.Trace object at 0x7d7eb84c59d0>, <strands.telemetry.metrics.Trace object at 0x7d7eb8cb9f10>, <strands.telemetry.metrics.Trace object at 0x7d7eb8910440>, <strands.telemetry.metrics.Trace object at 0x7d7ec239b080>], accumulated_usage={'inputTokens': 8263, 'outputTokens': 215, 'totalTokens': 8478}, accumulated_metrics={'latencyMs': 0}), state={})"
            ]
          },
          "metadata": {},
          "execution_count": 4
        }
      ]
    },
    {
      "cell_type": "code",
      "source": [
        "import json\n",
        "\n",
        "data = response.metrics.get_summary()\n",
        "\n",
        "print(json.dumps(data, indent=4, sort_keys=True))"
      ],
      "metadata": {
        "colab": {
          "base_uri": "https://localhost:8080/"
        },
        "id": "egroK2bVdIvq",
        "outputId": "b108c37f-e31f-4873-dfbc-8e87e8e3f9d3"
      },
      "execution_count": 7,
      "outputs": [
        {
          "output_type": "stream",
          "name": "stdout",
          "text": [
            "{\n",
            "    \"accumulated_metrics\": {\n",
            "        \"latencyMs\": 0\n",
            "    },\n",
            "    \"accumulated_usage\": {\n",
            "        \"inputTokens\": 2901,\n",
            "        \"outputTokens\": 80,\n",
            "        \"totalTokens\": 2981\n",
            "    },\n",
            "    \"average_cycle_time\": 0.5894031524658203,\n",
            "    \"tool_usage\": {\n",
            "        \"calculator\": {\n",
            "            \"execution_stats\": {\n",
            "                \"average_time\": 0.01765608787536621,\n",
            "                \"call_count\": 1,\n",
            "                \"error_count\": 0,\n",
            "                \"success_count\": 1,\n",
            "                \"success_rate\": 1.0,\n",
            "                \"total_time\": 0.01765608787536621\n",
            "            },\n",
            "            \"tool_info\": {\n",
            "                \"input_params\": {\n",
            "                    \"expression\": \"2+2\",\n",
            "                    \"mode\": \"evaluate\"\n",
            "                },\n",
            "                \"name\": \"calculator\",\n",
            "                \"tool_use_id\": \"calculator\"\n",
            "            }\n",
            "        }\n",
            "    },\n",
            "    \"total_cycles\": 2,\n",
            "    \"total_duration\": 1.1788063049316406,\n",
            "    \"traces\": [\n",
            "        {\n",
            "            \"children\": [\n",
            "                {\n",
            "                    \"children\": [],\n",
            "                    \"duration\": 1.8769073486328125,\n",
            "                    \"end_time\": 1760491366.7877674,\n",
            "                    \"id\": \"b9273f9b-7a00-4cf6-9961-9246b456cdd3\",\n",
            "                    \"message\": {\n",
            "                        \"content\": [\n",
            "                            {\n",
            "                                \"toolUse\": {\n",
            "                                    \"input\": {\n",
            "                                        \"expression\": \"2+2\",\n",
            "                                        \"mode\": \"evaluate\"\n",
            "                                    },\n",
            "                                    \"name\": \"calculator\",\n",
            "                                    \"toolUseId\": \"calculator\"\n",
            "                                }\n",
            "                            }\n",
            "                        ],\n",
            "                        \"role\": \"assistant\"\n",
            "                    },\n",
            "                    \"metadata\": {},\n",
            "                    \"name\": \"stream_messages\",\n",
            "                    \"parent_id\": \"00170ef5-cfda-4c9b-80e2-aa47f89b9a50\",\n",
            "                    \"raw_name\": null,\n",
            "                    \"start_time\": 1760491364.91086\n",
            "                },\n",
            "                {\n",
            "                    \"children\": [],\n",
            "                    \"duration\": 0.01772785186767578,\n",
            "                    \"end_time\": 1760491366.850977,\n",
            "                    \"id\": \"68051393-25e5-4498-9770-adc9d607a974\",\n",
            "                    \"message\": {\n",
            "                        \"content\": [\n",
            "                            {\n",
            "                                \"toolResult\": {\n",
            "                                    \"content\": [\n",
            "                                        {\n",
            "                                            \"text\": \"Result: 4\"\n",
            "                                        }\n",
            "                                    ],\n",
            "                                    \"status\": \"success\",\n",
            "                                    \"toolUseId\": \"calculator\"\n",
            "                                }\n",
            "                            }\n",
            "                        ],\n",
            "                        \"role\": \"user\"\n",
            "                    },\n",
            "                    \"metadata\": {\n",
            "                        \"toolUseId\": \"calculator\",\n",
            "                        \"tool_name\": \"calculator\"\n",
            "                    },\n",
            "                    \"name\": \"Tool: calculator\",\n",
            "                    \"parent_id\": \"00170ef5-cfda-4c9b-80e2-aa47f89b9a50\",\n",
            "                    \"raw_name\": \"calculator - calculator\",\n",
            "                    \"start_time\": 1760491366.833249\n",
            "                },\n",
            "                {\n",
            "                    \"children\": [],\n",
            "                    \"duration\": 1.1790051460266113,\n",
            "                    \"end_time\": 1760491368.030324,\n",
            "                    \"id\": \"6f9e1fb4-fda8-43a1-a4ef-0f3eecd5bf7d\",\n",
            "                    \"message\": null,\n",
            "                    \"metadata\": {},\n",
            "                    \"name\": \"Recursive call\",\n",
            "                    \"parent_id\": \"00170ef5-cfda-4c9b-80e2-aa47f89b9a50\",\n",
            "                    \"raw_name\": null,\n",
            "                    \"start_time\": 1760491366.8513188\n",
            "                }\n",
            "            ],\n",
            "            \"duration\": null,\n",
            "            \"end_time\": null,\n",
            "            \"id\": \"00170ef5-cfda-4c9b-80e2-aa47f89b9a50\",\n",
            "            \"message\": null,\n",
            "            \"metadata\": {},\n",
            "            \"name\": \"Cycle 1\",\n",
            "            \"parent_id\": null,\n",
            "            \"raw_name\": null,\n",
            "            \"start_time\": 1760491364.9107242\n",
            "        },\n",
            "        {\n",
            "            \"children\": [\n",
            "                {\n",
            "                    \"children\": [],\n",
            "                    \"duration\": 1.1785879135131836,\n",
            "                    \"end_time\": 1760491368.030196,\n",
            "                    \"id\": \"5a123aa3-2836-4958-b54b-d75bd7cd4349\",\n",
            "                    \"message\": {\n",
            "                        \"content\": [\n",
            "                            {\n",
            "                                \"text\": \"2 + 2 = 4.\\n\"\n",
            "                            }\n",
            "                        ],\n",
            "                        \"role\": \"assistant\"\n",
            "                    },\n",
            "                    \"metadata\": {},\n",
            "                    \"name\": \"stream_messages\",\n",
            "                    \"parent_id\": \"36ad544c-adba-4692-86d0-c2d4a3cc3b54\",\n",
            "                    \"raw_name\": null,\n",
            "                    \"start_time\": 1760491366.851608\n",
            "                }\n",
            "            ],\n",
            "            \"duration\": 1.1788063049316406,\n",
            "            \"end_time\": 1760491368.0302672,\n",
            "            \"id\": \"36ad544c-adba-4692-86d0-c2d4a3cc3b54\",\n",
            "            \"message\": null,\n",
            "            \"metadata\": {},\n",
            "            \"name\": \"Cycle 2\",\n",
            "            \"parent_id\": null,\n",
            "            \"raw_name\": null,\n",
            "            \"start_time\": 1760491366.851461\n",
            "        }\n",
            "    ]\n",
            "}\n"
          ]
        }
      ]
    },
    {
      "cell_type": "code",
      "source": [
        "from strands import Agent, tool\n",
        "\n",
        "# Sample fruit collection (mock data)\n",
        "fruit_collection = [\n",
        "    {\"id\": 123, \"name\": \"apple\"},\n",
        "    {\"id\": 456, \"name\": \"orange\"},\n",
        "    {\"id\": 789, \"name\": \"banana\"}\n",
        "]\n",
        "\n",
        "# Define a tool that fetches fruits from the list\n",
        "@tool\n",
        "def get_fruits():\n",
        "    \"\"\"Return a list of all fruits in the collection.\"\"\"\n",
        "    return [fruit[\"name\"] for fruit in fruit_collection]\n",
        "\n",
        "# Create the agent with the tool\n",
        "agent = Agent(\n",
        "    model = model,\n",
        "    name=\"FruitAgent\",\n",
        "    description=\"An agent that can tell which fruits are available.\",\n",
        "    tools=[get_fruits],\n",
        ")\n",
        "\n",
        "# Ask the question\n",
        "response = agent(\"tell me about fruit collection?\")\n",
        "# print(response)\n"
      ],
      "metadata": {
        "colab": {
          "base_uri": "https://localhost:8080/"
        },
        "id": "IhudaVFAd4fJ",
        "outputId": "cb7239bd-652d-4e79-8f09-9e0b06c88a0a"
      },
      "execution_count": 13,
      "outputs": [
        {
          "output_type": "stream",
          "name": "stdout",
          "text": [
            "\n",
            "Tool #1: get_fruits\n",
            "Our fruit collection includes apples, oranges, and bananas. \n"
          ]
        }
      ]
    },
    {
      "cell_type": "code",
      "source": [],
      "metadata": {
        "id": "Gq1lAqBcfuKY"
      },
      "execution_count": null,
      "outputs": []
    }
  ]
}