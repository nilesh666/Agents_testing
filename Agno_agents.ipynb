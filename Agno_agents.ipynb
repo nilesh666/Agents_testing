{
  "nbformat": 4,
  "nbformat_minor": 0,
  "metadata": {
    "colab": {
      "provenance": []
    },
    "kernelspec": {
      "name": "python3",
      "display_name": "Python 3"
    },
    "language_info": {
      "name": "python"
    },
    "widgets": {
      "application/vnd.jupyter.widget-state+json": {
        "1671faeefeb949979b0369ba5b9754da": {
          "model_module": "@jupyter-widgets/output",
          "model_name": "OutputModel",
          "model_module_version": "1.0.0",
          "state": {
            "_dom_classes": [],
            "_model_module": "@jupyter-widgets/output",
            "_model_module_version": "1.0.0",
            "_model_name": "OutputModel",
            "_view_count": null,
            "_view_module": "@jupyter-widgets/output",
            "_view_module_version": "1.0.0",
            "_view_name": "OutputView",
            "layout": "IPY_MODEL_312a33286d0b403a82cba5c2b27dde0b",
            "msg_id": "",
            "outputs": [
              {
                "output_type": "display_data",
                "data": {
                  "text/plain": "\u001b[32m▰▰▰▰▱▱▱\u001b[0m Thinking...\n\u001b[36m┏━\u001b[0m\u001b[36m Message \u001b[0m\u001b[36m━━━━━━━━━━━━━━━━━━━━━━━━━━━━━━━━━━━━━━━━━━━━━━━━━━━━━━━━━━━━━━━━━━━━━━━━━━━━━━━━━━━━━━━━━━━━━━━━━━━━━━\u001b[0m\u001b[36m━┓\u001b[0m\n\u001b[36m┃\u001b[0m                                                                                                                 \u001b[36m┃\u001b[0m\n\u001b[36m┃\u001b[0m \u001b[32mTell me about a breaking news story from India.\u001b[0m                                                                 \u001b[36m┃\u001b[0m\n\u001b[36m┃\u001b[0m                                                                                                                 \u001b[36m┃\u001b[0m\n\u001b[36m┗━━━━━━━━━━━━━━━━━━━━━━━━━━━━━━━━━━━━━━━━━━━━━━━━━━━━━━━━━━━━━━━━━━━━━━━━━━━━━━━━━━━━━━━━━━━━━━━━━━━━━━━━━━━━━━━━━┛\u001b[0m\n\u001b[33m┏━\u001b[0m\u001b[33m Tool Calls \u001b[0m\u001b[33m━━━━━━━━━━━━━━━━━━━━━━━━━━━━━━━━━━━━━━━━━━━━━━━━━━━━━━━━━━━━━━━━━━━━━━━━━━━━━━━━━━━━━━━━━━━━━━━━━━━\u001b[0m\u001b[33m━┓\u001b[0m\n\u001b[33m┃\u001b[0m                                                                                                                 \u001b[33m┃\u001b[0m\n\u001b[33m┃\u001b[0m • duckduckgo_news(max_results=5, query=breaking news India)                                                     \u001b[33m┃\u001b[0m\n\u001b[33m┃\u001b[0m                                                                                                                 \u001b[33m┃\u001b[0m\n\u001b[33m┗━━━━━━━━━━━━━━━━━━━━━━━━━━━━━━━━━━━━━━━━━━━━━━━━━━━━━━━━━━━━━━━━━━━━━━━━━━━━━━━━━━━━━━━━━━━━━━━━━━━━━━━━━━━━━━━━━┛\u001b[0m\n\u001b[34m┏━\u001b[0m\u001b[34m Response (3.0s) \u001b[0m\u001b[34m━━━━━━━━━━━━━━━━━━━━━━━━━━━━━━━━━━━━━━━━━━━━━━━━━━━━━━━━━━━━━━━━━━━━━━━━━━━━━━━━━━━━━━━━━━━━━━\u001b[0m\u001b[34m━┓\u001b[0m\n\u001b[34m┃\u001b[0m                                                                                                                 \u001b[34m┃\u001b[0m\n\u001b[34m┃\u001b[0m                                            \u001b[1mBreaking News from India\u001b[0m                                             \u001b[34m┃\u001b[0m\n\u001b[34m┃\u001b[0m                                                                                                                 \u001b[34m┃\u001b[0m\n\u001b[34m┃\u001b[0m To get the latest news from India, I will search the web for breaking news stories.                             \u001b[34m┃\u001b[0m\n\u001b[34m┃\u001b[0m                                                                                                                 \u001b[34m┃\u001b[0m\n\u001b[34m┃\u001b[0m                                                                                                                 \u001b[34m┃\u001b[0m\n\u001b[34m┃\u001b[0m                                            \u001b[1;4mBreaking News from India\u001b[0m                                             \u001b[34m┃\u001b[0m\n\u001b[34m┃\u001b[0m                                                                                                                 \u001b[34m┃\u001b[0m\n\u001b[34m┃\u001b[0m According to recent reports, there is a breaking news story from India regarding the country's oil imports.     \u001b[34m┃\u001b[0m\n\u001b[34m┃\u001b[0m                                                                                                                 \u001b[34m┃\u001b[0m\n\u001b[34m┃\u001b[0m \u001b[1;33m • \u001b[0mIndia has seemingly pushed back against US President Donald Trump's claim it had agreed to stop importing    \u001b[34m┃\u001b[0m\n\u001b[34m┃\u001b[0m \u001b[1;33m   \u001b[0mRussian oil in defiance of massive sanctions from Washington.                                                \u001b[34m┃\u001b[0m\n\u001b[34m┃\u001b[0m \u001b[1;33m • \u001b[0mIndia is looking to increase its purchases of crude oil and natural gas from the U.S. as it diversifies its  \u001b[34m┃\u001b[0m\n\u001b[34m┃\u001b[0m \u001b[1;33m   \u001b[0menergy supplies following criticism by U.S.                                                                  \u001b[34m┃\u001b[0m\n\u001b[34m┃\u001b[0m \u001b[1;33m • \u001b[0mThe Indian government says it is \"not aware\" of a call in which the US president claimed India's leader made \u001b[34m┃\u001b[0m\n\u001b[34m┃\u001b[0m \u001b[1;33m   \u001b[0mthe commitment.                                                                                              \u001b[34m┃\u001b[0m\n\u001b[34m┃\u001b[0m \u001b[1;33m • \u001b[0mIndia has the capacity to purchase an additional $15 billion of oil from the US, a senior commerce ministry  \u001b[34m┃\u001b[0m\n\u001b[34m┃\u001b[0m \u001b[1;33m   \u001b[0mofficial said Wednesday, signaling New Delhi's intent to speed up trade talks and get a deal.                \u001b[34m┃\u001b[0m\n\u001b[34m┃\u001b[0m \u001b[1;33m • \u001b[0mPresident Donald Trump says Indian Prime Minister Narendra Modi has personally assured him that India will   \u001b[34m┃\u001b[0m\n\u001b[34m┃\u001b[0m \u001b[1;33m   \u001b[0mstop buying Russian oil.                                                                                     \u001b[34m┃\u001b[0m\n\u001b[34m┃\u001b[0m                                                                                                                 \u001b[34m┃\u001b[0m\n\u001b[34m┃\u001b[0m These reports suggest that there is ongoing tension between India and the US regarding oil imports, with India  \u001b[34m┃\u001b[0m\n\u001b[34m┃\u001b[0m seeking to diversify its energy supplies and the US pushing for India to stop buying Russian oil.               \u001b[34m┃\u001b[0m\n\u001b[34m┃\u001b[0m                                                                                                                 \u001b[34m┃\u001b[0m\n\u001b[34m┗━━━━━━━━━━━━━━━━━━━━━━━━━━━━━━━━━━━━━━━━━━━━━━━━━━━━━━━━━━━━━━━━━━━━━━━━━━━━━━━━━━━━━━━━━━━━━━━━━━━━━━━━━━━━━━━━━┛\u001b[0m\n",
                  "text/html": "<pre style=\"white-space:pre;overflow-x:auto;line-height:normal;font-family:Menlo,'DejaVu Sans Mono',consolas,'Courier New',monospace\"><span style=\"color: #008000; text-decoration-color: #008000\">▰▰▰▰▱▱▱</span> Thinking...\n<span style=\"color: #008080; text-decoration-color: #008080\">┏━ Message ━━━━━━━━━━━━━━━━━━━━━━━━━━━━━━━━━━━━━━━━━━━━━━━━━━━━━━━━━━━━━━━━━━━━━━━━━━━━━━━━━━━━━━━━━━━━━━━━━━━━━━━┓</span>\n<span style=\"color: #008080; text-decoration-color: #008080\">┃</span>                                                                                                                 <span style=\"color: #008080; text-decoration-color: #008080\">┃</span>\n<span style=\"color: #008080; text-decoration-color: #008080\">┃</span> <span style=\"color: #008000; text-decoration-color: #008000\">Tell me about a breaking news story from India.</span>                                                                 <span style=\"color: #008080; text-decoration-color: #008080\">┃</span>\n<span style=\"color: #008080; text-decoration-color: #008080\">┃</span>                                                                                                                 <span style=\"color: #008080; text-decoration-color: #008080\">┃</span>\n<span style=\"color: #008080; text-decoration-color: #008080\">┗━━━━━━━━━━━━━━━━━━━━━━━━━━━━━━━━━━━━━━━━━━━━━━━━━━━━━━━━━━━━━━━━━━━━━━━━━━━━━━━━━━━━━━━━━━━━━━━━━━━━━━━━━━━━━━━━━┛</span>\n<span style=\"color: #808000; text-decoration-color: #808000\">┏━ Tool Calls ━━━━━━━━━━━━━━━━━━━━━━━━━━━━━━━━━━━━━━━━━━━━━━━━━━━━━━━━━━━━━━━━━━━━━━━━━━━━━━━━━━━━━━━━━━━━━━━━━━━━┓</span>\n<span style=\"color: #808000; text-decoration-color: #808000\">┃</span>                                                                                                                 <span style=\"color: #808000; text-decoration-color: #808000\">┃</span>\n<span style=\"color: #808000; text-decoration-color: #808000\">┃</span> • duckduckgo_news(max_results=5, query=breaking news India)                                                     <span style=\"color: #808000; text-decoration-color: #808000\">┃</span>\n<span style=\"color: #808000; text-decoration-color: #808000\">┃</span>                                                                                                                 <span style=\"color: #808000; text-decoration-color: #808000\">┃</span>\n<span style=\"color: #808000; text-decoration-color: #808000\">┗━━━━━━━━━━━━━━━━━━━━━━━━━━━━━━━━━━━━━━━━━━━━━━━━━━━━━━━━━━━━━━━━━━━━━━━━━━━━━━━━━━━━━━━━━━━━━━━━━━━━━━━━━━━━━━━━━┛</span>\n<span style=\"color: #000080; text-decoration-color: #000080\">┏━ Response (3.0s) ━━━━━━━━━━━━━━━━━━━━━━━━━━━━━━━━━━━━━━━━━━━━━━━━━━━━━━━━━━━━━━━━━━━━━━━━━━━━━━━━━━━━━━━━━━━━━━━┓</span>\n<span style=\"color: #000080; text-decoration-color: #000080\">┃</span>                                                                                                                 <span style=\"color: #000080; text-decoration-color: #000080\">┃</span>\n<span style=\"color: #000080; text-decoration-color: #000080\">┃</span>                                            <span style=\"font-weight: bold\">Breaking News from India</span>                                             <span style=\"color: #000080; text-decoration-color: #000080\">┃</span>\n<span style=\"color: #000080; text-decoration-color: #000080\">┃</span>                                                                                                                 <span style=\"color: #000080; text-decoration-color: #000080\">┃</span>\n<span style=\"color: #000080; text-decoration-color: #000080\">┃</span> To get the latest news from India, I will search the web for breaking news stories.                             <span style=\"color: #000080; text-decoration-color: #000080\">┃</span>\n<span style=\"color: #000080; text-decoration-color: #000080\">┃</span>                                                                                                                 <span style=\"color: #000080; text-decoration-color: #000080\">┃</span>\n<span style=\"color: #000080; text-decoration-color: #000080\">┃</span>                                                                                                                 <span style=\"color: #000080; text-decoration-color: #000080\">┃</span>\n<span style=\"color: #000080; text-decoration-color: #000080\">┃</span>                                            <span style=\"font-weight: bold; text-decoration: underline\">Breaking News from India</span>                                             <span style=\"color: #000080; text-decoration-color: #000080\">┃</span>\n<span style=\"color: #000080; text-decoration-color: #000080\">┃</span>                                                                                                                 <span style=\"color: #000080; text-decoration-color: #000080\">┃</span>\n<span style=\"color: #000080; text-decoration-color: #000080\">┃</span> According to recent reports, there is a breaking news story from India regarding the country's oil imports.     <span style=\"color: #000080; text-decoration-color: #000080\">┃</span>\n<span style=\"color: #000080; text-decoration-color: #000080\">┃</span>                                                                                                                 <span style=\"color: #000080; text-decoration-color: #000080\">┃</span>\n<span style=\"color: #000080; text-decoration-color: #000080\">┃</span> <span style=\"color: #808000; text-decoration-color: #808000; font-weight: bold\"> • </span>India has seemingly pushed back against US President Donald Trump's claim it had agreed to stop importing    <span style=\"color: #000080; text-decoration-color: #000080\">┃</span>\n<span style=\"color: #000080; text-decoration-color: #000080\">┃</span> <span style=\"color: #808000; text-decoration-color: #808000; font-weight: bold\">   </span>Russian oil in defiance of massive sanctions from Washington.                                                <span style=\"color: #000080; text-decoration-color: #000080\">┃</span>\n<span style=\"color: #000080; text-decoration-color: #000080\">┃</span> <span style=\"color: #808000; text-decoration-color: #808000; font-weight: bold\"> • </span>India is looking to increase its purchases of crude oil and natural gas from the U.S. as it diversifies its  <span style=\"color: #000080; text-decoration-color: #000080\">┃</span>\n<span style=\"color: #000080; text-decoration-color: #000080\">┃</span> <span style=\"color: #808000; text-decoration-color: #808000; font-weight: bold\">   </span>energy supplies following criticism by U.S.                                                                  <span style=\"color: #000080; text-decoration-color: #000080\">┃</span>\n<span style=\"color: #000080; text-decoration-color: #000080\">┃</span> <span style=\"color: #808000; text-decoration-color: #808000; font-weight: bold\"> • </span>The Indian government says it is \"not aware\" of a call in which the US president claimed India's leader made <span style=\"color: #000080; text-decoration-color: #000080\">┃</span>\n<span style=\"color: #000080; text-decoration-color: #000080\">┃</span> <span style=\"color: #808000; text-decoration-color: #808000; font-weight: bold\">   </span>the commitment.                                                                                              <span style=\"color: #000080; text-decoration-color: #000080\">┃</span>\n<span style=\"color: #000080; text-decoration-color: #000080\">┃</span> <span style=\"color: #808000; text-decoration-color: #808000; font-weight: bold\"> • </span>India has the capacity to purchase an additional $15 billion of oil from the US, a senior commerce ministry  <span style=\"color: #000080; text-decoration-color: #000080\">┃</span>\n<span style=\"color: #000080; text-decoration-color: #000080\">┃</span> <span style=\"color: #808000; text-decoration-color: #808000; font-weight: bold\">   </span>official said Wednesday, signaling New Delhi's intent to speed up trade talks and get a deal.                <span style=\"color: #000080; text-decoration-color: #000080\">┃</span>\n<span style=\"color: #000080; text-decoration-color: #000080\">┃</span> <span style=\"color: #808000; text-decoration-color: #808000; font-weight: bold\"> • </span>President Donald Trump says Indian Prime Minister Narendra Modi has personally assured him that India will   <span style=\"color: #000080; text-decoration-color: #000080\">┃</span>\n<span style=\"color: #000080; text-decoration-color: #000080\">┃</span> <span style=\"color: #808000; text-decoration-color: #808000; font-weight: bold\">   </span>stop buying Russian oil.                                                                                     <span style=\"color: #000080; text-decoration-color: #000080\">┃</span>\n<span style=\"color: #000080; text-decoration-color: #000080\">┃</span>                                                                                                                 <span style=\"color: #000080; text-decoration-color: #000080\">┃</span>\n<span style=\"color: #000080; text-decoration-color: #000080\">┃</span> These reports suggest that there is ongoing tension between India and the US regarding oil imports, with India  <span style=\"color: #000080; text-decoration-color: #000080\">┃</span>\n<span style=\"color: #000080; text-decoration-color: #000080\">┃</span> seeking to diversify its energy supplies and the US pushing for India to stop buying Russian oil.               <span style=\"color: #000080; text-decoration-color: #000080\">┃</span>\n<span style=\"color: #000080; text-decoration-color: #000080\">┃</span>                                                                                                                 <span style=\"color: #000080; text-decoration-color: #000080\">┃</span>\n<span style=\"color: #000080; text-decoration-color: #000080\">┗━━━━━━━━━━━━━━━━━━━━━━━━━━━━━━━━━━━━━━━━━━━━━━━━━━━━━━━━━━━━━━━━━━━━━━━━━━━━━━━━━━━━━━━━━━━━━━━━━━━━━━━━━━━━━━━━━┛</span>\n</pre>\n"
                },
                "metadata": {}
              }
            ]
          }
        },
        "312a33286d0b403a82cba5c2b27dde0b": {
          "model_module": "@jupyter-widgets/base",
          "model_name": "LayoutModel",
          "model_module_version": "1.2.0",
          "state": {
            "_model_module": "@jupyter-widgets/base",
            "_model_module_version": "1.2.0",
            "_model_name": "LayoutModel",
            "_view_count": null,
            "_view_module": "@jupyter-widgets/base",
            "_view_module_version": "1.2.0",
            "_view_name": "LayoutView",
            "align_content": null,
            "align_items": null,
            "align_self": null,
            "border": null,
            "bottom": null,
            "display": null,
            "flex": null,
            "flex_flow": null,
            "grid_area": null,
            "grid_auto_columns": null,
            "grid_auto_flow": null,
            "grid_auto_rows": null,
            "grid_column": null,
            "grid_gap": null,
            "grid_row": null,
            "grid_template_areas": null,
            "grid_template_columns": null,
            "grid_template_rows": null,
            "height": null,
            "justify_content": null,
            "justify_items": null,
            "left": null,
            "margin": null,
            "max_height": null,
            "max_width": null,
            "min_height": null,
            "min_width": null,
            "object_fit": null,
            "object_position": null,
            "order": null,
            "overflow": null,
            "overflow_x": null,
            "overflow_y": null,
            "padding": null,
            "right": null,
            "top": null,
            "visibility": null,
            "width": null
          }
        },
        "83842b28634d40afa40fd37f8d2b339e": {
          "model_module": "@jupyter-widgets/output",
          "model_name": "OutputModel",
          "model_module_version": "1.0.0",
          "state": {
            "_dom_classes": [],
            "_model_module": "@jupyter-widgets/output",
            "_model_module_version": "1.0.0",
            "_model_name": "OutputModel",
            "_view_count": null,
            "_view_module": "@jupyter-widgets/output",
            "_view_module_version": "1.0.0",
            "_view_name": "OutputView",
            "layout": "IPY_MODEL_188604a381d24ababd367cd0bc5e43a0",
            "msg_id": "",
            "outputs": [
              {
                "output_type": "display_data",
                "data": {
                  "text/plain": "\u001b[36m┏━\u001b[0m\u001b[36m Message \u001b[0m\u001b[36m━━━━━━━━━━━━━━━━━━━━━━━━━━━━━━━━━━━━━━━━━━━━━━━━━━━━━━━━━━━━━━━━━━━━━━━━━━━━━━━━━━━━━━━━━━━━━━━━━━━━━━\u001b[0m\u001b[36m━┓\u001b[0m\n\u001b[36m┃\u001b[0m                                                                                                                 \u001b[36m┃\u001b[0m\n\u001b[36m┃\u001b[0m \u001b[32mWhat's the latest news and weather in Tokyo?\u001b[0m                                                                    \u001b[36m┃\u001b[0m\n\u001b[36m┃\u001b[0m                                                                                                                 \u001b[36m┃\u001b[0m\n\u001b[36m┗━━━━━━━━━━━━━━━━━━━━━━━━━━━━━━━━━━━━━━━━━━━━━━━━━━━━━━━━━━━━━━━━━━━━━━━━━━━━━━━━━━━━━━━━━━━━━━━━━━━━━━━━━━━━━━━━━┛\u001b[0m\n\u001b[33m┏━\u001b[0m\u001b[33m Team Tool Calls \u001b[0m\u001b[33m━━━━━━━━━━━━━━━━━━━━━━━━━━━━━━━━━━━━━━━━━━━━━━━━━━━━━━━━━━━━━━━━━━━━━━━━━━━━━━━━━━━━━━━━━━━━━━\u001b[0m\u001b[33m━┓\u001b[0m\n\u001b[33m┃\u001b[0m                                                                                                                 \u001b[33m┃\u001b[0m\n\u001b[33m┃\u001b[0m • delegate_task_to_member(expected_output=A brief summary of the latest news in Tokyo, member_id=news-agent,    \u001b[33m┃\u001b[0m\n\u001b[33m┃\u001b[0m   task_description=Get the latest news in Tokyo)                                                                \u001b[33m┃\u001b[0m\n\u001b[33m┃\u001b[0m                                                                                                                 \u001b[33m┃\u001b[0m\n\u001b[33m┃\u001b[0m • delegate_task_to_member(expected_output=The current weather in Tokyo, member_id=weather-agent,                \u001b[33m┃\u001b[0m\n\u001b[33m┃\u001b[0m   task_description=Get the latest weather in Tokyo)                                                             \u001b[33m┃\u001b[0m\n\u001b[33m┃\u001b[0m                                                                                                                 \u001b[33m┃\u001b[0m\n\u001b[33m┃\u001b[0m • delegate_task_to_member(expected_output=The current weather in Tokyo, member_id=weather-agent,                \u001b[33m┃\u001b[0m\n\u001b[33m┃\u001b[0m   task_description=Get the current weather in Tokyo)                                                            \u001b[33m┃\u001b[0m\n\u001b[33m┃\u001b[0m                                                                                                                 \u001b[33m┃\u001b[0m\n\u001b[33m┗━━━━━━━━━━━━━━━━━━━━━━━━━━━━━━━━━━━━━━━━━━━━━━━━━━━━━━━━━━━━━━━━━━━━━━━━━━━━━━━━━━━━━━━━━━━━━━━━━━━━━━━━━━━━━━━━━┛\u001b[0m\n\u001b[34m┏━\u001b[0m\u001b[34m Response (3.9s) \u001b[0m\u001b[34m━━━━━━━━━━━━━━━━━━━━━━━━━━━━━━━━━━━━━━━━━━━━━━━━━━━━━━━━━━━━━━━━━━━━━━━━━━━━━━━━━━━━━━━━━━━━━━\u001b[0m\u001b[34m━┓\u001b[0m\n\u001b[34m┃\u001b[0m                                                                                                                 \u001b[34m┃\u001b[0m\n\u001b[34m┃\u001b[0m The latest news in Tokyo includes a surge in tourism during the cherry blossom season, new infrastructure       \u001b[34m┃\u001b[0m\n\u001b[34m┃\u001b[0m projects, a slight downturn in the stock market, and a new initiative to reduce carbon emissions. The current   \u001b[34m┃\u001b[0m\n\u001b[34m┃\u001b[0m weather in Tokyo is partly cloudy with a temperature of 18°C (64°F), humidity of 60%, and wind of 15 km/h (9    \u001b[34m┃\u001b[0m\n\u001b[34m┃\u001b[0m mph) from the northwest.                                                                                        \u001b[34m┃\u001b[0m\n\u001b[34m┃\u001b[0m                                                                                                                 \u001b[34m┃\u001b[0m\n\u001b[34m┗━━━━━━━━━━━━━━━━━━━━━━━━━━━━━━━━━━━━━━━━━━━━━━━━━━━━━━━━━━━━━━━━━━━━━━━━━━━━━━━━━━━━━━━━━━━━━━━━━━━━━━━━━━━━━━━━━┛\u001b[0m\n",
                  "text/html": "<pre style=\"white-space:pre;overflow-x:auto;line-height:normal;font-family:Menlo,'DejaVu Sans Mono',consolas,'Courier New',monospace\"><span style=\"color: #008080; text-decoration-color: #008080\">┏━ Message ━━━━━━━━━━━━━━━━━━━━━━━━━━━━━━━━━━━━━━━━━━━━━━━━━━━━━━━━━━━━━━━━━━━━━━━━━━━━━━━━━━━━━━━━━━━━━━━━━━━━━━━┓</span>\n<span style=\"color: #008080; text-decoration-color: #008080\">┃</span>                                                                                                                 <span style=\"color: #008080; text-decoration-color: #008080\">┃</span>\n<span style=\"color: #008080; text-decoration-color: #008080\">┃</span> <span style=\"color: #008000; text-decoration-color: #008000\">What's the latest news and weather in Tokyo?</span>                                                                    <span style=\"color: #008080; text-decoration-color: #008080\">┃</span>\n<span style=\"color: #008080; text-decoration-color: #008080\">┃</span>                                                                                                                 <span style=\"color: #008080; text-decoration-color: #008080\">┃</span>\n<span style=\"color: #008080; text-decoration-color: #008080\">┗━━━━━━━━━━━━━━━━━━━━━━━━━━━━━━━━━━━━━━━━━━━━━━━━━━━━━━━━━━━━━━━━━━━━━━━━━━━━━━━━━━━━━━━━━━━━━━━━━━━━━━━━━━━━━━━━━┛</span>\n<span style=\"color: #808000; text-decoration-color: #808000\">┏━ Team Tool Calls ━━━━━━━━━━━━━━━━━━━━━━━━━━━━━━━━━━━━━━━━━━━━━━━━━━━━━━━━━━━━━━━━━━━━━━━━━━━━━━━━━━━━━━━━━━━━━━━┓</span>\n<span style=\"color: #808000; text-decoration-color: #808000\">┃</span>                                                                                                                 <span style=\"color: #808000; text-decoration-color: #808000\">┃</span>\n<span style=\"color: #808000; text-decoration-color: #808000\">┃</span> • delegate_task_to_member(expected_output=A brief summary of the latest news in Tokyo, member_id=news-agent,    <span style=\"color: #808000; text-decoration-color: #808000\">┃</span>\n<span style=\"color: #808000; text-decoration-color: #808000\">┃</span>   task_description=Get the latest news in Tokyo)                                                                <span style=\"color: #808000; text-decoration-color: #808000\">┃</span>\n<span style=\"color: #808000; text-decoration-color: #808000\">┃</span>                                                                                                                 <span style=\"color: #808000; text-decoration-color: #808000\">┃</span>\n<span style=\"color: #808000; text-decoration-color: #808000\">┃</span> • delegate_task_to_member(expected_output=The current weather in Tokyo, member_id=weather-agent,                <span style=\"color: #808000; text-decoration-color: #808000\">┃</span>\n<span style=\"color: #808000; text-decoration-color: #808000\">┃</span>   task_description=Get the latest weather in Tokyo)                                                             <span style=\"color: #808000; text-decoration-color: #808000\">┃</span>\n<span style=\"color: #808000; text-decoration-color: #808000\">┃</span>                                                                                                                 <span style=\"color: #808000; text-decoration-color: #808000\">┃</span>\n<span style=\"color: #808000; text-decoration-color: #808000\">┃</span> • delegate_task_to_member(expected_output=The current weather in Tokyo, member_id=weather-agent,                <span style=\"color: #808000; text-decoration-color: #808000\">┃</span>\n<span style=\"color: #808000; text-decoration-color: #808000\">┃</span>   task_description=Get the current weather in Tokyo)                                                            <span style=\"color: #808000; text-decoration-color: #808000\">┃</span>\n<span style=\"color: #808000; text-decoration-color: #808000\">┃</span>                                                                                                                 <span style=\"color: #808000; text-decoration-color: #808000\">┃</span>\n<span style=\"color: #808000; text-decoration-color: #808000\">┗━━━━━━━━━━━━━━━━━━━━━━━━━━━━━━━━━━━━━━━━━━━━━━━━━━━━━━━━━━━━━━━━━━━━━━━━━━━━━━━━━━━━━━━━━━━━━━━━━━━━━━━━━━━━━━━━━┛</span>\n<span style=\"color: #000080; text-decoration-color: #000080\">┏━ Response (3.9s) ━━━━━━━━━━━━━━━━━━━━━━━━━━━━━━━━━━━━━━━━━━━━━━━━━━━━━━━━━━━━━━━━━━━━━━━━━━━━━━━━━━━━━━━━━━━━━━━┓</span>\n<span style=\"color: #000080; text-decoration-color: #000080\">┃</span>                                                                                                                 <span style=\"color: #000080; text-decoration-color: #000080\">┃</span>\n<span style=\"color: #000080; text-decoration-color: #000080\">┃</span> The latest news in Tokyo includes a surge in tourism during the cherry blossom season, new infrastructure       <span style=\"color: #000080; text-decoration-color: #000080\">┃</span>\n<span style=\"color: #000080; text-decoration-color: #000080\">┃</span> projects, a slight downturn in the stock market, and a new initiative to reduce carbon emissions. The current   <span style=\"color: #000080; text-decoration-color: #000080\">┃</span>\n<span style=\"color: #000080; text-decoration-color: #000080\">┃</span> weather in Tokyo is partly cloudy with a temperature of 18°C (64°F), humidity of 60%, and wind of 15 km/h (9    <span style=\"color: #000080; text-decoration-color: #000080\">┃</span>\n<span style=\"color: #000080; text-decoration-color: #000080\">┃</span> mph) from the northwest.                                                                                        <span style=\"color: #000080; text-decoration-color: #000080\">┃</span>\n<span style=\"color: #000080; text-decoration-color: #000080\">┃</span>                                                                                                                 <span style=\"color: #000080; text-decoration-color: #000080\">┃</span>\n<span style=\"color: #000080; text-decoration-color: #000080\">┗━━━━━━━━━━━━━━━━━━━━━━━━━━━━━━━━━━━━━━━━━━━━━━━━━━━━━━━━━━━━━━━━━━━━━━━━━━━━━━━━━━━━━━━━━━━━━━━━━━━━━━━━━━━━━━━━━┛</span>\n</pre>\n"
                },
                "metadata": {}
              }
            ]
          }
        },
        "188604a381d24ababd367cd0bc5e43a0": {
          "model_module": "@jupyter-widgets/base",
          "model_name": "LayoutModel",
          "model_module_version": "1.2.0",
          "state": {
            "_model_module": "@jupyter-widgets/base",
            "_model_module_version": "1.2.0",
            "_model_name": "LayoutModel",
            "_view_count": null,
            "_view_module": "@jupyter-widgets/base",
            "_view_module_version": "1.2.0",
            "_view_name": "LayoutView",
            "align_content": null,
            "align_items": null,
            "align_self": null,
            "border": null,
            "bottom": null,
            "display": null,
            "flex": null,
            "flex_flow": null,
            "grid_area": null,
            "grid_auto_columns": null,
            "grid_auto_flow": null,
            "grid_auto_rows": null,
            "grid_column": null,
            "grid_gap": null,
            "grid_row": null,
            "grid_template_areas": null,
            "grid_template_columns": null,
            "grid_template_rows": null,
            "height": null,
            "justify_content": null,
            "justify_items": null,
            "left": null,
            "margin": null,
            "max_height": null,
            "max_width": null,
            "min_height": null,
            "min_width": null,
            "object_fit": null,
            "object_position": null,
            "order": null,
            "overflow": null,
            "overflow_x": null,
            "overflow_y": null,
            "padding": null,
            "right": null,
            "top": null,
            "visibility": null,
            "width": null
          }
        },
        "f658721d5869405eb07f6f9ecd172891": {
          "model_module": "@jupyter-widgets/output",
          "model_name": "OutputModel",
          "model_module_version": "1.0.0",
          "state": {
            "_dom_classes": [],
            "_model_module": "@jupyter-widgets/output",
            "_model_module_version": "1.0.0",
            "_model_name": "OutputModel",
            "_view_count": null,
            "_view_module": "@jupyter-widgets/output",
            "_view_module_version": "1.0.0",
            "_view_name": "OutputView",
            "layout": "IPY_MODEL_908c282fc31f4f7081fb2bd826921d50",
            "msg_id": "",
            "outputs": [
              {
                "output_type": "display_data",
                "data": {
                  "text/plain": "\u001b[32m▰▰▰▰▰▱▱\u001b[0m Thinking...\n\u001b[36m┏━\u001b[0m\u001b[36m Message \u001b[0m\u001b[36m━━━━━━━━━━━━━━━━━━━━━━━━━━━━━━━━━━━━━━━━━━━━━━━━━━━━━━━━━━━━━━━━━━━━━━━━━━━━━━━━━━━━━━━━━━━━━━━━━━━━━━\u001b[0m\u001b[36m━┓\u001b[0m\n\u001b[36m┃\u001b[0m                                                                                                                 \u001b[36m┃\u001b[0m\n\u001b[36m┃\u001b[0m \u001b[32m9.11 and 9.9 -- which is bigger?\u001b[0m                                                                                \u001b[36m┃\u001b[0m\n\u001b[36m┃\u001b[0m                                                                                                                 \u001b[36m┃\u001b[0m\n\u001b[36m┗━━━━━━━━━━━━━━━━━━━━━━━━━━━━━━━━━━━━━━━━━━━━━━━━━━━━━━━━━━━━━━━━━━━━━━━━━━━━━━━━━━━━━━━━━━━━━━━━━━━━━━━━━━━━━━━━━┛\u001b[0m\n\u001b[32m┏━\u001b[0m\u001b[32m Reasoning step 1 \u001b[0m\u001b[32m━━━━━━━━━━━━━━━━━━━━━━━━━━━━━━━━━━━━━━━━━━━━━━━━━━━━━━━━━━━━━━━━━━━━━━━━━━━━━━━━━━━━━━━━━━━━━\u001b[0m\u001b[32m━┓\u001b[0m\n\u001b[32m┃\u001b[0m                                                                                                                 \u001b[32m┃\u001b[0m\n\u001b[32m┃\u001b[0m \u001b[1mCompare Decimal Numbers\u001b[0m                                                                                         \u001b[32m┃\u001b[0m\n\u001b[32m┃\u001b[0m \u001b[1;2mAction:\u001b[0m\u001b[2m I will compare 9.11 and 9.9 by aligning their decimal places and analyzing digit by digit.\u001b[0m              \u001b[32m┃\u001b[0m\n\u001b[32m┃\u001b[0m \u001b[2m9.11 is equivalent to 9.11, and 9.9 is equivalent to 9.90. Comparing tenths place: 1 (from 9.11) vs. 9 (from \u001b[0m   \u001b[32m┃\u001b[0m\n\u001b[32m┃\u001b[0m \u001b[2m9.90).\u001b[0m                                                                                                          \u001b[32m┃\u001b[0m\n\u001b[32m┃\u001b[0m                                                                                                                 \u001b[32m┃\u001b[0m\n\u001b[32m┗━━━━━━━━━━━━━━━━━━━━━━━━━━━━━━━━━━━━━━━━━━━━━━━━━━━━━━━━━━━━━━━━━━━━━━━━━━━━━━━━━━━━━━━━━━━━━━━━━━━━━━━━━━━━━━━━━┛\u001b[0m\n\u001b[32m┏━\u001b[0m\u001b[32m Reasoning step 2 \u001b[0m\u001b[32m━━━━━━━━━━━━━━━━━━━━━━━━━━━━━━━━━━━━━━━━━━━━━━━━━━━━━━━━━━━━━━━━━━━━━━━━━━━━━━━━━━━━━━━━━━━━━\u001b[0m\u001b[32m━┓\u001b[0m\n\u001b[32m┃\u001b[0m                                                                                                                 \u001b[32m┃\u001b[0m\n\u001b[32m┃\u001b[0m \u001b[1mValidation via Subtraction\u001b[0m                                                                                      \u001b[32m┃\u001b[0m\n\u001b[32m┃\u001b[0m \u001b[1;2mAction:\u001b[0m\u001b[2m I will subtract 9.11 from 9.9 to confirm the result.\u001b[0m                                                    \u001b[32m┃\u001b[0m\n\u001b[32m┃\u001b[0m \u001b[2m9.9 - 9.11 = 0.79, a positive value.\u001b[0m                                                                            \u001b[32m┃\u001b[0m\n\u001b[32m┃\u001b[0m                                                                                                                 \u001b[32m┃\u001b[0m\n\u001b[32m┗━━━━━━━━━━━━━━━━━━━━━━━━━━━━━━━━━━━━━━━━━━━━━━━━━━━━━━━━━━━━━━━━━━━━━━━━━━━━━━━━━━━━━━━━━━━━━━━━━━━━━━━━━━━━━━━━━┛\u001b[0m\n\u001b[34m┏━\u001b[0m\u001b[34m Response (3.6s) \u001b[0m\u001b[34m━━━━━━━━━━━━━━━━━━━━━━━━━━━━━━━━━━━━━━━━━━━━━━━━━━━━━━━━━━━━━━━━━━━━━━━━━━━━━━━━━━━━━━━━━━━━━━\u001b[0m\u001b[34m━┓\u001b[0m\n\u001b[34m┃\u001b[0m                                                                                                                 \u001b[34m┃\u001b[0m\n\u001b[34m┃\u001b[0m                                                                                                                 \u001b[34m┃\u001b[0m\n\u001b[34m┃\u001b[0m                                                                                                                 \u001b[34m┃\u001b[0m\n\u001b[34m┃\u001b[0m The final answer is $\\boxed{9.11}$                                                                              \u001b[34m┃\u001b[0m\n\u001b[34m┃\u001b[0m                                                                                                                 \u001b[34m┃\u001b[0m\n\u001b[34m┗━━━━━━━━━━━━━━━━━━━━━━━━━━━━━━━━━━━━━━━━━━━━━━━━━━━━━━━━━━━━━━━━━━━━━━━━━━━━━━━━━━━━━━━━━━━━━━━━━━━━━━━━━━━━━━━━━┛\u001b[0m\n",
                  "text/html": "<pre style=\"white-space:pre;overflow-x:auto;line-height:normal;font-family:Menlo,'DejaVu Sans Mono',consolas,'Courier New',monospace\"><span style=\"color: #008000; text-decoration-color: #008000\">▰▰▰▰▰▱▱</span> Thinking...\n<span style=\"color: #008080; text-decoration-color: #008080\">┏━ Message ━━━━━━━━━━━━━━━━━━━━━━━━━━━━━━━━━━━━━━━━━━━━━━━━━━━━━━━━━━━━━━━━━━━━━━━━━━━━━━━━━━━━━━━━━━━━━━━━━━━━━━━┓</span>\n<span style=\"color: #008080; text-decoration-color: #008080\">┃</span>                                                                                                                 <span style=\"color: #008080; text-decoration-color: #008080\">┃</span>\n<span style=\"color: #008080; text-decoration-color: #008080\">┃</span> <span style=\"color: #008000; text-decoration-color: #008000\">9.11 and 9.9 -- which is bigger?</span>                                                                                <span style=\"color: #008080; text-decoration-color: #008080\">┃</span>\n<span style=\"color: #008080; text-decoration-color: #008080\">┃</span>                                                                                                                 <span style=\"color: #008080; text-decoration-color: #008080\">┃</span>\n<span style=\"color: #008080; text-decoration-color: #008080\">┗━━━━━━━━━━━━━━━━━━━━━━━━━━━━━━━━━━━━━━━━━━━━━━━━━━━━━━━━━━━━━━━━━━━━━━━━━━━━━━━━━━━━━━━━━━━━━━━━━━━━━━━━━━━━━━━━━┛</span>\n<span style=\"color: #008000; text-decoration-color: #008000\">┏━ Reasoning step 1 ━━━━━━━━━━━━━━━━━━━━━━━━━━━━━━━━━━━━━━━━━━━━━━━━━━━━━━━━━━━━━━━━━━━━━━━━━━━━━━━━━━━━━━━━━━━━━━┓</span>\n<span style=\"color: #008000; text-decoration-color: #008000\">┃</span>                                                                                                                 <span style=\"color: #008000; text-decoration-color: #008000\">┃</span>\n<span style=\"color: #008000; text-decoration-color: #008000\">┃</span> <span style=\"font-weight: bold\">Compare Decimal Numbers</span>                                                                                         <span style=\"color: #008000; text-decoration-color: #008000\">┃</span>\n<span style=\"color: #008000; text-decoration-color: #008000\">┃</span> <span style=\"color: #7f7f7f; text-decoration-color: #7f7f7f; font-weight: bold\">Action:</span><span style=\"color: #7f7f7f; text-decoration-color: #7f7f7f\"> I will compare 9.11 and 9.9 by aligning their decimal places and analyzing digit by digit.</span>              <span style=\"color: #008000; text-decoration-color: #008000\">┃</span>\n<span style=\"color: #008000; text-decoration-color: #008000\">┃</span> <span style=\"color: #7f7f7f; text-decoration-color: #7f7f7f\">9.11 is equivalent to 9.11, and 9.9 is equivalent to 9.90. Comparing tenths place: 1 (from 9.11) vs. 9 (from </span>   <span style=\"color: #008000; text-decoration-color: #008000\">┃</span>\n<span style=\"color: #008000; text-decoration-color: #008000\">┃</span> <span style=\"color: #7f7f7f; text-decoration-color: #7f7f7f\">9.90).</span>                                                                                                          <span style=\"color: #008000; text-decoration-color: #008000\">┃</span>\n<span style=\"color: #008000; text-decoration-color: #008000\">┃</span>                                                                                                                 <span style=\"color: #008000; text-decoration-color: #008000\">┃</span>\n<span style=\"color: #008000; text-decoration-color: #008000\">┗━━━━━━━━━━━━━━━━━━━━━━━━━━━━━━━━━━━━━━━━━━━━━━━━━━━━━━━━━━━━━━━━━━━━━━━━━━━━━━━━━━━━━━━━━━━━━━━━━━━━━━━━━━━━━━━━━┛</span>\n<span style=\"color: #008000; text-decoration-color: #008000\">┏━ Reasoning step 2 ━━━━━━━━━━━━━━━━━━━━━━━━━━━━━━━━━━━━━━━━━━━━━━━━━━━━━━━━━━━━━━━━━━━━━━━━━━━━━━━━━━━━━━━━━━━━━━┓</span>\n<span style=\"color: #008000; text-decoration-color: #008000\">┃</span>                                                                                                                 <span style=\"color: #008000; text-decoration-color: #008000\">┃</span>\n<span style=\"color: #008000; text-decoration-color: #008000\">┃</span> <span style=\"font-weight: bold\">Validation via Subtraction</span>                                                                                      <span style=\"color: #008000; text-decoration-color: #008000\">┃</span>\n<span style=\"color: #008000; text-decoration-color: #008000\">┃</span> <span style=\"color: #7f7f7f; text-decoration-color: #7f7f7f; font-weight: bold\">Action:</span><span style=\"color: #7f7f7f; text-decoration-color: #7f7f7f\"> I will subtract 9.11 from 9.9 to confirm the result.</span>                                                    <span style=\"color: #008000; text-decoration-color: #008000\">┃</span>\n<span style=\"color: #008000; text-decoration-color: #008000\">┃</span> <span style=\"color: #7f7f7f; text-decoration-color: #7f7f7f\">9.9 - 9.11 = 0.79, a positive value.</span>                                                                            <span style=\"color: #008000; text-decoration-color: #008000\">┃</span>\n<span style=\"color: #008000; text-decoration-color: #008000\">┃</span>                                                                                                                 <span style=\"color: #008000; text-decoration-color: #008000\">┃</span>\n<span style=\"color: #008000; text-decoration-color: #008000\">┗━━━━━━━━━━━━━━━━━━━━━━━━━━━━━━━━━━━━━━━━━━━━━━━━━━━━━━━━━━━━━━━━━━━━━━━━━━━━━━━━━━━━━━━━━━━━━━━━━━━━━━━━━━━━━━━━━┛</span>\n<span style=\"color: #000080; text-decoration-color: #000080\">┏━ Response (3.6s) ━━━━━━━━━━━━━━━━━━━━━━━━━━━━━━━━━━━━━━━━━━━━━━━━━━━━━━━━━━━━━━━━━━━━━━━━━━━━━━━━━━━━━━━━━━━━━━━┓</span>\n<span style=\"color: #000080; text-decoration-color: #000080\">┃</span>                                                                                                                 <span style=\"color: #000080; text-decoration-color: #000080\">┃</span>\n<span style=\"color: #000080; text-decoration-color: #000080\">┃</span>                                                                                                                 <span style=\"color: #000080; text-decoration-color: #000080\">┃</span>\n<span style=\"color: #000080; text-decoration-color: #000080\">┃</span>                                                                                                                 <span style=\"color: #000080; text-decoration-color: #000080\">┃</span>\n<span style=\"color: #000080; text-decoration-color: #000080\">┃</span> The final answer is $\\boxed{9.11}$                                                                              <span style=\"color: #000080; text-decoration-color: #000080\">┃</span>\n<span style=\"color: #000080; text-decoration-color: #000080\">┃</span>                                                                                                                 <span style=\"color: #000080; text-decoration-color: #000080\">┃</span>\n<span style=\"color: #000080; text-decoration-color: #000080\">┗━━━━━━━━━━━━━━━━━━━━━━━━━━━━━━━━━━━━━━━━━━━━━━━━━━━━━━━━━━━━━━━━━━━━━━━━━━━━━━━━━━━━━━━━━━━━━━━━━━━━━━━━━━━━━━━━━┛</span>\n</pre>\n"
                },
                "metadata": {}
              }
            ]
          }
        },
        "908c282fc31f4f7081fb2bd826921d50": {
          "model_module": "@jupyter-widgets/base",
          "model_name": "LayoutModel",
          "model_module_version": "1.2.0",
          "state": {
            "_model_module": "@jupyter-widgets/base",
            "_model_module_version": "1.2.0",
            "_model_name": "LayoutModel",
            "_view_count": null,
            "_view_module": "@jupyter-widgets/base",
            "_view_module_version": "1.2.0",
            "_view_name": "LayoutView",
            "align_content": null,
            "align_items": null,
            "align_self": null,
            "border": null,
            "bottom": null,
            "display": null,
            "flex": null,
            "flex_flow": null,
            "grid_area": null,
            "grid_auto_columns": null,
            "grid_auto_flow": null,
            "grid_auto_rows": null,
            "grid_column": null,
            "grid_gap": null,
            "grid_row": null,
            "grid_template_areas": null,
            "grid_template_columns": null,
            "grid_template_rows": null,
            "height": null,
            "justify_content": null,
            "justify_items": null,
            "left": null,
            "margin": null,
            "max_height": null,
            "max_width": null,
            "min_height": null,
            "min_width": null,
            "object_fit": null,
            "object_position": null,
            "order": null,
            "overflow": null,
            "overflow_x": null,
            "overflow_y": null,
            "padding": null,
            "right": null,
            "top": null,
            "visibility": null,
            "width": null
          }
        }
      }
    }
  },
  "cells": [
    {
      "cell_type": "code",
      "source": [
        "!pip install -qU groq agno duckduckgo-search"
      ],
      "metadata": {
        "colab": {
          "base_uri": "https://localhost:8080/"
        },
        "id": "eUxiI9oW3h04",
        "outputId": "90691df8-9525-4fc3-ec91-b7831ea30859"
      },
      "execution_count": 1,
      "outputs": [
        {
          "output_type": "stream",
          "name": "stdout",
          "text": [
            "\u001b[?25l   \u001b[90m━━━━━━━━━━━━━━━━━━━━━━━━━━━━━━━━━━━━━━━━\u001b[0m \u001b[32m0.0/135.4 kB\u001b[0m \u001b[31m?\u001b[0m eta \u001b[36m-:--:--\u001b[0m\r\u001b[2K   \u001b[91m━━━━━━━━━━━━━━━━━━━━━━━━━━━━━━━━━━━━━━━\u001b[0m\u001b[90m╺\u001b[0m \u001b[32m133.1/135.4 kB\u001b[0m \u001b[31m7.9 MB/s\u001b[0m eta \u001b[36m0:00:01\u001b[0m\r\u001b[2K   \u001b[90m━━━━━━━━━━━━━━━━━━━━━━━━━━━━━━━━━━━━━━━━\u001b[0m \u001b[32m135.4/135.4 kB\u001b[0m \u001b[31m3.4 MB/s\u001b[0m eta \u001b[36m0:00:00\u001b[0m\n",
            "\u001b[?25h\u001b[?25l   \u001b[90m━━━━━━━━━━━━━━━━━━━━━━━━━━━━━━━━━━━━━━━━\u001b[0m \u001b[32m0.0/1.2 MB\u001b[0m \u001b[31m?\u001b[0m eta \u001b[36m-:--:--\u001b[0m\r\u001b[2K   \u001b[91m━━━━━━━━━━━━━━━━━━━━━━━━━━━━━━━\u001b[0m\u001b[91m╸\u001b[0m\u001b[90m━━━━━━━━\u001b[0m \u001b[32m1.0/1.2 MB\u001b[0m \u001b[31m29.2 MB/s\u001b[0m eta \u001b[36m0:00:01\u001b[0m\r\u001b[2K   \u001b[90m━━━━━━━━━━━━━━━━━━━━━━━━━━━━━━━━━━━━━━━━\u001b[0m \u001b[32m1.2/1.2 MB\u001b[0m \u001b[31m19.2 MB/s\u001b[0m eta \u001b[36m0:00:00\u001b[0m\n",
            "\u001b[?25h\u001b[?25l   \u001b[90m━━━━━━━━━━━━━━━━━━━━━━━━━━━━━━━━━━━━━━━━\u001b[0m \u001b[32m0.0/3.3 MB\u001b[0m \u001b[31m?\u001b[0m eta \u001b[36m-:--:--\u001b[0m\r\u001b[2K   \u001b[91m━━━━━━━━━━━━━━━━━━━━━━━━━━━━━━━━━━━━━━━\u001b[0m\u001b[91m╸\u001b[0m \u001b[32m3.3/3.3 MB\u001b[0m \u001b[31m131.1 MB/s\u001b[0m eta \u001b[36m0:00:01\u001b[0m\r\u001b[2K   \u001b[90m━━━━━━━━━━━━━━━━━━━━━━━━━━━━━━━━━━━━━━━━\u001b[0m \u001b[32m3.3/3.3 MB\u001b[0m \u001b[31m47.4 MB/s\u001b[0m eta \u001b[36m0:00:00\u001b[0m\n",
            "\u001b[?25h"
          ]
        }
      ]
    },
    {
      "cell_type": "code",
      "source": [
        "!pip install -qU ddgs"
      ],
      "metadata": {
        "colab": {
          "base_uri": "https://localhost:8080/"
        },
        "id": "rK0_e2m04ILR",
        "outputId": "aa83b7b3-cf61-4cc7-9e1b-1ad98975b754"
      },
      "execution_count": 2,
      "outputs": [
        {
          "output_type": "stream",
          "name": "stdout",
          "text": [
            "\u001b[2K   \u001b[90m━━━━━━━━━━━━━━━━━━━━━━━━━━━━━━━━━━━━━━━━\u001b[0m \u001b[32m41.6/41.6 kB\u001b[0m \u001b[31m1.5 MB/s\u001b[0m eta \u001b[36m0:00:00\u001b[0m\n",
            "\u001b[2K   \u001b[90m━━━━━━━━━━━━━━━━━━━━━━━━━━━━━━━━━━━━━━━━\u001b[0m \u001b[32m5.3/5.3 MB\u001b[0m \u001b[31m38.3 MB/s\u001b[0m eta \u001b[36m0:00:00\u001b[0m\n",
            "\u001b[?25h"
          ]
        }
      ]
    },
    {
      "cell_type": "code",
      "source": [
        "!pip install -qU mcp 'fastapi[standard]' sqlalchemy"
      ],
      "metadata": {
        "colab": {
          "base_uri": "https://localhost:8080/"
        },
        "id": "7VeCdzj17iql",
        "outputId": "eeb5d961-c5e7-4d51-821c-1ed08df815f4"
      },
      "execution_count": 3,
      "outputs": [
        {
          "output_type": "stream",
          "name": "stdout",
          "text": [
            "\u001b[2K     \u001b[90m━━━━━━━━━━━━━━━━━━━━━━━━━━━━━━━━━━━━━━━━\u001b[0m \u001b[32m80.4/80.4 kB\u001b[0m \u001b[31m1.3 MB/s\u001b[0m eta \u001b[36m0:00:00\u001b[0m\n",
            "\u001b[2K   \u001b[90m━━━━━━━━━━━━━━━━━━━━━━━━━━━━━━━━━━━━━━━━\u001b[0m \u001b[32m168.8/168.8 kB\u001b[0m \u001b[31m3.7 MB/s\u001b[0m eta \u001b[36m0:00:00\u001b[0m\n",
            "\u001b[2K   \u001b[90m━━━━━━━━━━━━━━━━━━━━━━━━━━━━━━━━━━━━━━━━\u001b[0m \u001b[32m331.1/331.1 kB\u001b[0m \u001b[31m11.1 MB/s\u001b[0m eta \u001b[36m0:00:00\u001b[0m\n",
            "\u001b[2K   \u001b[90m━━━━━━━━━━━━━━━━━━━━━━━━━━━━━━━━━━━━━━━━\u001b[0m \u001b[32m517.7/517.7 kB\u001b[0m \u001b[31m15.4 MB/s\u001b[0m eta \u001b[36m0:00:00\u001b[0m\n",
            "\u001b[2K   \u001b[90m━━━━━━━━━━━━━━━━━━━━━━━━━━━━━━━━━━━━━━━━\u001b[0m \u001b[32m4.4/4.4 MB\u001b[0m \u001b[31m24.2 MB/s\u001b[0m eta \u001b[36m0:00:00\u001b[0m\n",
            "\u001b[2K   \u001b[90m━━━━━━━━━━━━━━━━━━━━━━━━━━━━━━━━━━━━━━━━\u001b[0m \u001b[32m456.8/456.8 kB\u001b[0m \u001b[31m14.0 MB/s\u001b[0m eta \u001b[36m0:00:00\u001b[0m\n",
            "\u001b[2K   \u001b[90m━━━━━━━━━━━━━━━━━━━━━━━━━━━━━━━━━━━━━━━━\u001b[0m \u001b[32m951.9/951.9 kB\u001b[0m \u001b[31m36.6 MB/s\u001b[0m eta \u001b[36m0:00:00\u001b[0m\n",
            "\u001b[?25h"
          ]
        }
      ]
    },
    {
      "cell_type": "code",
      "source": [
        "!pip install -qU fastapi nest-asyncio pyngrok uvicorn"
      ],
      "metadata": {
        "id": "nCb9nxR796hH"
      },
      "execution_count": 4,
      "outputs": []
    },
    {
      "cell_type": "code",
      "source": [
        "from google.colab import userdata\n",
        "groq_api = userdata.get('GROQ_API')\n"
      ],
      "metadata": {
        "id": "PrXLnqGq3hxs"
      },
      "execution_count": 28,
      "outputs": []
    },
    {
      "cell_type": "code",
      "execution_count": 6,
      "metadata": {
        "colab": {
          "base_uri": "https://localhost:8080/",
          "height": 611,
          "referenced_widgets": [
            "1671faeefeb949979b0369ba5b9754da",
            "312a33286d0b403a82cba5c2b27dde0b"
          ]
        },
        "id": "korrv2Ng3aB3",
        "outputId": "5e8342f2-bd8c-4fdb-ca7b-01498a38550f"
      },
      "outputs": [
        {
          "output_type": "display_data",
          "data": {
            "text/plain": [
              "Output()"
            ],
            "application/vnd.jupyter.widget-view+json": {
              "version_major": 2,
              "version_minor": 0,
              "model_id": "1671faeefeb949979b0369ba5b9754da"
            }
          },
          "metadata": {}
        },
        {
          "output_type": "display_data",
          "data": {
            "text/plain": [],
            "text/html": [
              "<pre style=\"white-space:pre;overflow-x:auto;line-height:normal;font-family:Menlo,'DejaVu Sans Mono',consolas,'Courier New',monospace\"></pre>\n"
            ]
          },
          "metadata": {}
        }
      ],
      "source": [
        "from agno.agent import Agent, RunOutput\n",
        "from agno.models.groq import Groq\n",
        "from agno.tools.duckduckgo import DuckDuckGoTools\n",
        "\n",
        "# Initialize the agent with an LLM via Groq and DuckDuckGoTools\n",
        "agent = Agent(\n",
        "    model=Groq(id=\"llama-3.3-70b-versatile\", api_key = groq_api),\n",
        "    description=\"You are an enthusiastic news reporter with a flair for storytelling!\",\n",
        "    tools=[DuckDuckGoTools()],      # Add DuckDuckGo tool to search the web\n",
        "    # show_tool_calls=True,           # Shows tool calls in the response, set to False to hide\n",
        "    markdown=True,                # Format responses in markdown\n",
        "    )\n",
        "\n",
        "# Prompt the agent to fetch a breaking news story from New York\n",
        "agent.print_response(\"Tell me about a breaking news story from India.\", stream=True)\n"
      ]
    },
    {
      "cell_type": "code",
      "source": [
        "from agno.tools.hackernews import HackerNewsTools\n",
        "from agno.utils.pprint import pprint_run_response\n",
        "\n",
        "agno_agent = Agent(\n",
        "    model = Groq(id = \"llama-3.3-70b-versatile\", api_key = groq_api),\n",
        "    tools = [HackerNewsTools()],\n",
        "    instructions=\"Write a report on the topic.Output only the report\",\n",
        "    markdown=True\n",
        ")\n",
        "\n",
        "response: RunOutput = agno_agent.run(\"Trending startups and products\") #arun for asynchronous\n",
        "pprint_run_response(response, markdown=True)"
      ],
      "metadata": {
        "colab": {
          "base_uri": "https://localhost:8080/",
          "height": 577
        },
        "id": "S_SuUuvA4Fwn",
        "outputId": "2dc9d369-eb61-4519-ddbe-826da50dcf32"
      },
      "execution_count": 7,
      "outputs": [
        {
          "output_type": "display_data",
          "data": {
            "text/plain": [
              "\u001b[34m╭─────────────────────────────────────────────────────────────────────────────────────────────────────────────────╮\u001b[0m\n",
              "\u001b[34m│\u001b[0m ┏━━━━━━━━━━━━━━━━━━━━━━━━━━━━━━━━━━━━━━━━━━━━━━━━━━━━━━━━━━━━━━━━━━━━━━━━━━━━━━━━━━━━━━━━━━━━━━━━━━━━━━━━━━━━━┓ \u001b[34m│\u001b[0m\n",
              "\u001b[34m│\u001b[0m ┃                                       \u001b[1mTrending Startups and Products\u001b[0m                                        ┃ \u001b[34m│\u001b[0m\n",
              "\u001b[34m│\u001b[0m ┗━━━━━━━━━━━━━━━━━━━━━━━━━━━━━━━━━━━━━━━━━━━━━━━━━━━━━━━━━━━━━━━━━━━━━━━━━━━━━━━━━━━━━━━━━━━━━━━━━━━━━━━━━━━━━┛ \u001b[34m│\u001b[0m\n",
              "\u001b[34m│\u001b[0m                                                                                                                 \u001b[34m│\u001b[0m\n",
              "\u001b[34m│\u001b[0m To get the latest information on trending startups and products, let's first look at the top stories from       \u001b[34m│\u001b[0m\n",
              "\u001b[34m│\u001b[0m Hacker News.                                                                                                    \u001b[34m│\u001b[0m\n",
              "\u001b[34m│\u001b[0m                                                                                                                 \u001b[34m│\u001b[0m\n",
              "\u001b[34m│\u001b[0m                                                                                                                 \u001b[34m│\u001b[0m\n",
              "\u001b[34m│\u001b[0m                                         \u001b[1;4mTrending Startups and Products\u001b[0m                                          \u001b[34m│\u001b[0m\n",
              "\u001b[34m│\u001b[0m                                                                                                                 \u001b[34m│\u001b[0m\n",
              "\u001b[34m│\u001b[0m The current trending startups and products can be seen in the list of top stories from Hacker News.             \u001b[34m│\u001b[0m\n",
              "\u001b[34m│\u001b[0m                                                                                                                 \u001b[34m│\u001b[0m\n",
              "\u001b[34m│\u001b[0m These include:                                                                                                  \u001b[34m│\u001b[0m\n",
              "\u001b[34m│\u001b[0m                                                                                                                 \u001b[34m│\u001b[0m\n",
              "\u001b[34m│\u001b[0m \u001b[1;33m • \u001b[0m\u001b[1mThe IDEs we had 30 years ago ... and we lost\u001b[0m: This story talks about how IDEs 30 years ago were better than  \u001b[34m│\u001b[0m\n",
              "\u001b[34m│\u001b[0m \u001b[1;33m   \u001b[0mthe ones we have now.                                                                                        \u001b[34m│\u001b[0m\n",
              "\u001b[34m│\u001b[0m \u001b[1;33m • \u001b[0m\u001b[1m./watch\u001b[0m: A new product called ./watch has been launched, with a website at dotslashwatch.com.                \u001b[34m│\u001b[0m\n",
              "\u001b[34m│\u001b[0m \u001b[1;33m • \u001b[0m\u001b[1mGame over. AGI is not imminent, and LLMs are not the royal road to getting there\u001b[0m: This article discusses how \u001b[34m│\u001b[0m\n",
              "\u001b[34m│\u001b[0m \u001b[1;33m   \u001b[0mAGI is not imminent and LLMs are not the key to achieving it.                                                \u001b[34m│\u001b[0m\n",
              "\u001b[34m│\u001b[0m \u001b[1;33m • \u001b[0m\u001b[1mAndrej Karpathy – It will take a decade to work through the issues with agents\u001b[0m: Andrej Karpathy thinks it    \u001b[34m│\u001b[0m\n",
              "\u001b[34m│\u001b[0m \u001b[1;33m   \u001b[0mwill take 10 years to solve the problems associated with AI agents.                                          \u001b[34m│\u001b[0m\n",
              "\u001b[34m│\u001b[0m \u001b[1;33m • \u001b[0m\u001b[1mStageConnect: Behringer protocol is open source\u001b[0m: StageConnect has made the Behringer protocol open source,   \u001b[34m│\u001b[0m\n",
              "\u001b[34m│\u001b[0m \u001b[1;33m   \u001b[0mand it's available on GitHub.                                                                                \u001b[34m│\u001b[0m\n",
              "\u001b[34m│\u001b[0m \u001b[1;33m • \u001b[0m\u001b[1mFast calculation of the distance to cubic Bezier curves on the GPU\u001b[0m: An article about how to quickly          \u001b[34m│\u001b[0m\n",
              "\u001b[34m│\u001b[0m \u001b[1;33m   \u001b[0mcalculate the distance to cubic Bezier curves on a GPU.                                                      \u001b[34m│\u001b[0m\n",
              "\u001b[34m│\u001b[0m \u001b[1;33m • \u001b[0m\u001b[1mNew Work by Gary Larson\u001b[0m: Gary Larson has released some new work, which can be found on his website.          \u001b[34m│\u001b[0m\n",
              "\u001b[34m│\u001b[0m \u001b[1;33m • \u001b[0m\u001b[1mRuby Blocks\u001b[0m: An article about Ruby Blocks, with a link to a blog post on the topic.                          \u001b[34m│\u001b[0m\n",
              "\u001b[34m│\u001b[0m \u001b[1;33m • \u001b[0m\u001b[1mAMD's Chiplet APU: An Overview of Strix Halo\u001b[0m: An overview of AMD's Strix Halo APU, which is a chiplet-based  \u001b[34m│\u001b[0m\n",
              "\u001b[34m│\u001b[0m \u001b[1;33m   \u001b[0mAPU.                                                                                                         \u001b[34m│\u001b[0m\n",
              "\u001b[34m│\u001b[0m \u001b[1;33m • \u001b[0m\u001b[1mSecond Chances on YouTube\u001b[0m: YouTube has introduced a new feature called \"Second Chances,\" which allows users  \u001b[34m│\u001b[0m\n",
              "\u001b[34m│\u001b[0m \u001b[1;33m   \u001b[0mto undo actions they've taken on the platform.                                                               \u001b[34m│\u001b[0m\n",
              "\u001b[34m│\u001b[0m                                                                                                                 \u001b[34m│\u001b[0m\n",
              "\u001b[34m│\u001b[0m These stories represent some of the current trending topics in the startup and product space.                   \u001b[34m│\u001b[0m\n",
              "\u001b[34m╰─────────────────────────────────────────────────────────────────────────────────────────────────────────────────╯\u001b[0m\n"
            ],
            "text/html": [
              "<pre style=\"white-space:pre;overflow-x:auto;line-height:normal;font-family:Menlo,'DejaVu Sans Mono',consolas,'Courier New',monospace\"><span style=\"color: #000080; text-decoration-color: #000080\">╭─────────────────────────────────────────────────────────────────────────────────────────────────────────────────╮</span>\n",
              "<span style=\"color: #000080; text-decoration-color: #000080\">│</span> ┏━━━━━━━━━━━━━━━━━━━━━━━━━━━━━━━━━━━━━━━━━━━━━━━━━━━━━━━━━━━━━━━━━━━━━━━━━━━━━━━━━━━━━━━━━━━━━━━━━━━━━━━━━━━━━┓ <span style=\"color: #000080; text-decoration-color: #000080\">│</span>\n",
              "<span style=\"color: #000080; text-decoration-color: #000080\">│</span> ┃                                       <span style=\"font-weight: bold\">Trending Startups and Products</span>                                        ┃ <span style=\"color: #000080; text-decoration-color: #000080\">│</span>\n",
              "<span style=\"color: #000080; text-decoration-color: #000080\">│</span> ┗━━━━━━━━━━━━━━━━━━━━━━━━━━━━━━━━━━━━━━━━━━━━━━━━━━━━━━━━━━━━━━━━━━━━━━━━━━━━━━━━━━━━━━━━━━━━━━━━━━━━━━━━━━━━━┛ <span style=\"color: #000080; text-decoration-color: #000080\">│</span>\n",
              "<span style=\"color: #000080; text-decoration-color: #000080\">│</span>                                                                                                                 <span style=\"color: #000080; text-decoration-color: #000080\">│</span>\n",
              "<span style=\"color: #000080; text-decoration-color: #000080\">│</span> To get the latest information on trending startups and products, let's first look at the top stories from       <span style=\"color: #000080; text-decoration-color: #000080\">│</span>\n",
              "<span style=\"color: #000080; text-decoration-color: #000080\">│</span> Hacker News.                                                                                                    <span style=\"color: #000080; text-decoration-color: #000080\">│</span>\n",
              "<span style=\"color: #000080; text-decoration-color: #000080\">│</span>                                                                                                                 <span style=\"color: #000080; text-decoration-color: #000080\">│</span>\n",
              "<span style=\"color: #000080; text-decoration-color: #000080\">│</span>                                                                                                                 <span style=\"color: #000080; text-decoration-color: #000080\">│</span>\n",
              "<span style=\"color: #000080; text-decoration-color: #000080\">│</span>                                         <span style=\"font-weight: bold; text-decoration: underline\">Trending Startups and Products</span>                                          <span style=\"color: #000080; text-decoration-color: #000080\">│</span>\n",
              "<span style=\"color: #000080; text-decoration-color: #000080\">│</span>                                                                                                                 <span style=\"color: #000080; text-decoration-color: #000080\">│</span>\n",
              "<span style=\"color: #000080; text-decoration-color: #000080\">│</span> The current trending startups and products can be seen in the list of top stories from Hacker News.             <span style=\"color: #000080; text-decoration-color: #000080\">│</span>\n",
              "<span style=\"color: #000080; text-decoration-color: #000080\">│</span>                                                                                                                 <span style=\"color: #000080; text-decoration-color: #000080\">│</span>\n",
              "<span style=\"color: #000080; text-decoration-color: #000080\">│</span> These include:                                                                                                  <span style=\"color: #000080; text-decoration-color: #000080\">│</span>\n",
              "<span style=\"color: #000080; text-decoration-color: #000080\">│</span>                                                                                                                 <span style=\"color: #000080; text-decoration-color: #000080\">│</span>\n",
              "<span style=\"color: #000080; text-decoration-color: #000080\">│</span> <span style=\"color: #808000; text-decoration-color: #808000; font-weight: bold\"> • </span><span style=\"font-weight: bold\">The IDEs we had 30 years ago ... and we lost</span>: This story talks about how IDEs 30 years ago were better than  <span style=\"color: #000080; text-decoration-color: #000080\">│</span>\n",
              "<span style=\"color: #000080; text-decoration-color: #000080\">│</span> <span style=\"color: #808000; text-decoration-color: #808000; font-weight: bold\">   </span>the ones we have now.                                                                                        <span style=\"color: #000080; text-decoration-color: #000080\">│</span>\n",
              "<span style=\"color: #000080; text-decoration-color: #000080\">│</span> <span style=\"color: #808000; text-decoration-color: #808000; font-weight: bold\"> • </span><span style=\"font-weight: bold\">./watch</span>: A new product called ./watch has been launched, with a website at dotslashwatch.com.                <span style=\"color: #000080; text-decoration-color: #000080\">│</span>\n",
              "<span style=\"color: #000080; text-decoration-color: #000080\">│</span> <span style=\"color: #808000; text-decoration-color: #808000; font-weight: bold\"> • </span><span style=\"font-weight: bold\">Game over. AGI is not imminent, and LLMs are not the royal road to getting there</span>: This article discusses how <span style=\"color: #000080; text-decoration-color: #000080\">│</span>\n",
              "<span style=\"color: #000080; text-decoration-color: #000080\">│</span> <span style=\"color: #808000; text-decoration-color: #808000; font-weight: bold\">   </span>AGI is not imminent and LLMs are not the key to achieving it.                                                <span style=\"color: #000080; text-decoration-color: #000080\">│</span>\n",
              "<span style=\"color: #000080; text-decoration-color: #000080\">│</span> <span style=\"color: #808000; text-decoration-color: #808000; font-weight: bold\"> • </span><span style=\"font-weight: bold\">Andrej Karpathy – It will take a decade to work through the issues with agents</span>: Andrej Karpathy thinks it    <span style=\"color: #000080; text-decoration-color: #000080\">│</span>\n",
              "<span style=\"color: #000080; text-decoration-color: #000080\">│</span> <span style=\"color: #808000; text-decoration-color: #808000; font-weight: bold\">   </span>will take 10 years to solve the problems associated with AI agents.                                          <span style=\"color: #000080; text-decoration-color: #000080\">│</span>\n",
              "<span style=\"color: #000080; text-decoration-color: #000080\">│</span> <span style=\"color: #808000; text-decoration-color: #808000; font-weight: bold\"> • </span><span style=\"font-weight: bold\">StageConnect: Behringer protocol is open source</span>: StageConnect has made the Behringer protocol open source,   <span style=\"color: #000080; text-decoration-color: #000080\">│</span>\n",
              "<span style=\"color: #000080; text-decoration-color: #000080\">│</span> <span style=\"color: #808000; text-decoration-color: #808000; font-weight: bold\">   </span>and it's available on GitHub.                                                                                <span style=\"color: #000080; text-decoration-color: #000080\">│</span>\n",
              "<span style=\"color: #000080; text-decoration-color: #000080\">│</span> <span style=\"color: #808000; text-decoration-color: #808000; font-weight: bold\"> • </span><span style=\"font-weight: bold\">Fast calculation of the distance to cubic Bezier curves on the GPU</span>: An article about how to quickly          <span style=\"color: #000080; text-decoration-color: #000080\">│</span>\n",
              "<span style=\"color: #000080; text-decoration-color: #000080\">│</span> <span style=\"color: #808000; text-decoration-color: #808000; font-weight: bold\">   </span>calculate the distance to cubic Bezier curves on a GPU.                                                      <span style=\"color: #000080; text-decoration-color: #000080\">│</span>\n",
              "<span style=\"color: #000080; text-decoration-color: #000080\">│</span> <span style=\"color: #808000; text-decoration-color: #808000; font-weight: bold\"> • </span><span style=\"font-weight: bold\">New Work by Gary Larson</span>: Gary Larson has released some new work, which can be found on his website.          <span style=\"color: #000080; text-decoration-color: #000080\">│</span>\n",
              "<span style=\"color: #000080; text-decoration-color: #000080\">│</span> <span style=\"color: #808000; text-decoration-color: #808000; font-weight: bold\"> • </span><span style=\"font-weight: bold\">Ruby Blocks</span>: An article about Ruby Blocks, with a link to a blog post on the topic.                          <span style=\"color: #000080; text-decoration-color: #000080\">│</span>\n",
              "<span style=\"color: #000080; text-decoration-color: #000080\">│</span> <span style=\"color: #808000; text-decoration-color: #808000; font-weight: bold\"> • </span><span style=\"font-weight: bold\">AMD's Chiplet APU: An Overview of Strix Halo</span>: An overview of AMD's Strix Halo APU, which is a chiplet-based  <span style=\"color: #000080; text-decoration-color: #000080\">│</span>\n",
              "<span style=\"color: #000080; text-decoration-color: #000080\">│</span> <span style=\"color: #808000; text-decoration-color: #808000; font-weight: bold\">   </span>APU.                                                                                                         <span style=\"color: #000080; text-decoration-color: #000080\">│</span>\n",
              "<span style=\"color: #000080; text-decoration-color: #000080\">│</span> <span style=\"color: #808000; text-decoration-color: #808000; font-weight: bold\"> • </span><span style=\"font-weight: bold\">Second Chances on YouTube</span>: YouTube has introduced a new feature called \"Second Chances,\" which allows users  <span style=\"color: #000080; text-decoration-color: #000080\">│</span>\n",
              "<span style=\"color: #000080; text-decoration-color: #000080\">│</span> <span style=\"color: #808000; text-decoration-color: #808000; font-weight: bold\">   </span>to undo actions they've taken on the platform.                                                               <span style=\"color: #000080; text-decoration-color: #000080\">│</span>\n",
              "<span style=\"color: #000080; text-decoration-color: #000080\">│</span>                                                                                                                 <span style=\"color: #000080; text-decoration-color: #000080\">│</span>\n",
              "<span style=\"color: #000080; text-decoration-color: #000080\">│</span> These stories represent some of the current trending topics in the startup and product space.                   <span style=\"color: #000080; text-decoration-color: #000080\">│</span>\n",
              "<span style=\"color: #000080; text-decoration-color: #000080\">╰─────────────────────────────────────────────────────────────────────────────────────────────────────────────────╯</span>\n",
              "</pre>\n"
            ]
          },
          "metadata": {}
        }
      ]
    },
    {
      "cell_type": "code",
      "source": [
        "from typing import Iterator\n",
        "from agno.agent import RunOutputEvent, RunEvent\n",
        "\n",
        "agno_agent = Agent(\n",
        "    model = Groq(id = \"llama-3.3-70b-versatile\", api_key = groq_api),\n",
        "    tools = [HackerNewsTools()],\n",
        "    instructions=\"Write a report on the topic.Output only the report\",\n",
        "    markdown=True\n",
        ")\n",
        "\n",
        "stream: Iterator[RunOutputEvent] = agno_agent.run(\"Trending products\", stream=True)\n",
        "\n",
        "# for chunk in stream:\n",
        "#     if chunk.event == RunEvent.run_content:\n",
        "#         print(chunk.content)\n",
        "print(stream)"
      ],
      "metadata": {
        "colab": {
          "base_uri": "https://localhost:8080/"
        },
        "collapsed": true,
        "id": "Ahl5PYJWtZH5",
        "outputId": "6abae634-ad42-4a0c-cfd9-5789bd2d3f29"
      },
      "execution_count": 8,
      "outputs": [
        {
          "output_type": "stream",
          "name": "stdout",
          "text": [
            "<generator object Agent._run_stream at 0x7db0550d0640>\n"
          ]
        }
      ]
    },
    {
      "cell_type": "code",
      "source": [
        "stream = agno_agent.run(input=\"Trending startups\", stream=True, stream_intermediate_steps=True)\n",
        "\n",
        "d = {}\n",
        "st=\" \"\n",
        "st1=\" \"\n",
        "st2=\" \"\n",
        "\n",
        "for chunk in stream:\n",
        "  if chunk.event == RunEvent.run_content:\n",
        "    # print(f\"Content: {chunk.content}\")\n",
        "    st+= chunk.content\n",
        "  elif chunk.event==RunEvent.tool_call_started:\n",
        "    # print(f\"Tool call started: {chunk.tool.tool_name}\")\n",
        "    st1+=chunk.tool.tool_name\n",
        "  elif chunk.event==RunEvent.reasoning_step:\n",
        "    print(f\"Reasoning step: {chunk.content}\")\n",
        "    st2+=chunk.content\n",
        "d['content']=st\n",
        "d['tool_call_started']=st1\n",
        "d['reasoning_step']=st2"
      ],
      "metadata": {
        "id": "EEZnSCHSufqm"
      },
      "execution_count": 9,
      "outputs": []
    },
    {
      "cell_type": "code",
      "source": [
        "d['content']"
      ],
      "metadata": {
        "colab": {
          "base_uri": "https://localhost:8080/",
          "height": 123
        },
        "id": "g3hhhCrzu4C2",
        "outputId": "9628d40b-a0c4-49b2-cb77-641f80169806"
      },
      "execution_count": 10,
      "outputs": [
        {
          "output_type": "execute_result",
          "data": {
            "text/plain": [
              "' # Trending Startups\\nThere are several trending startups across various industries. Here are a few examples:\\n* **Fintech**: Companies like Stripe, Square, and Robinhood are changing the way people think about financial services.\\n* **Healthtech**: Startups like 23andMe, Teladoc, and Fitbit are revolutionizing healthcare and wellness.\\n* **Sustainable Energy**: Companies like Tesla, Sunrun, and Vestas are leading the charge in renewable energy.\\n* **E-commerce**: Startups like Shopify, Instacart, and Warby Parker are transforming the retail landscape.\\n* **Artificial Intelligence**: Companies like NVIDIA, Zoox, and People.ai are pushing the boundaries of AI and machine learning.\\n\\nTo get more information about trending startups, we can look at the top stories from Hacker News:\\n### Trending Startups\\nBased on the latest news and updates from the startup world, here are some of the trending startups:\\n\\n1. **StageConnect**: An open-source protocol for Behringer devices, allowing for more flexibility and customization.\\n2. **Dotslashwatch**: A platform that allows users to create and share their own watch faces, with a focus on community and creativity.\\n3. **Strix Halo**: AMD\\'s latest chiplet APU, designed to provide improved performance and efficiency.\\n4. **OpenMixerProject**: An open-source project aimed at creating a universal mixer for audio and video applications.\\n5. **YouTube**: The popular video sharing platform, which has recently introduced a new feature called \"Second Chances\" to help creators recover from mistakes and improve their content.\\n\\nThese startups are making waves in their respective industries, and it will be interesting to see how they evolve and grow in the coming years.\\n\\n### Key Players\\nSome of the key players in these trending startups include:\\n\\n* **Andrej Karpathy**: A well-known expert in the field of artificial intelligence and machine learning, who has been sharing his insights on the future of AI and its potential applications.\\n* **Gary Larson**: A renowned cartoonist and creator of The Far Side, who has recently released new work and is still entertaining audiences with his unique sense of humor.\\n* **Behringer**: A leading manufacturer of audio equipment, which has open-sourced its protocol for StageConnect, allowing for more flexibility and customization.\\n\\nThese individuals and companies are pushing the boundaries of innovation and creativity, and their work is having a significant impact on the startup ecosystem.'"
            ],
            "application/vnd.google.colaboratory.intrinsic+json": {
              "type": "string"
            }
          },
          "metadata": {},
          "execution_count": 10
        }
      ]
    },
    {
      "cell_type": "code",
      "source": [
        "d[\"tool_call_started\"]"
      ],
      "metadata": {
        "colab": {
          "base_uri": "https://localhost:8080/",
          "height": 36
        },
        "id": "sdluDSwrwpZQ",
        "outputId": "83cf25ca-5676-4b1d-86de-86c060ad2e21"
      },
      "execution_count": 11,
      "outputs": [
        {
          "output_type": "execute_result",
          "data": {
            "text/plain": [
              "' get_top_hackernews_stories'"
            ],
            "application/vnd.google.colaboratory.intrinsic+json": {
              "type": "string"
            }
          },
          "metadata": {},
          "execution_count": 11
        }
      ]
    },
    {
      "cell_type": "code",
      "source": [
        "d[\"reasoning_step\"]"
      ],
      "metadata": {
        "colab": {
          "base_uri": "https://localhost:8080/",
          "height": 36
        },
        "id": "VlyWtKCFxKiE",
        "outputId": "5d553268-9b11-47ab-e56c-73a119239b81"
      },
      "execution_count": 12,
      "outputs": [
        {
          "output_type": "execute_result",
          "data": {
            "text/plain": [
              "' '"
            ],
            "application/vnd.google.colaboratory.intrinsic+json": {
              "type": "string"
            }
          },
          "metadata": {},
          "execution_count": 12
        }
      ]
    },
    {
      "cell_type": "code",
      "source": [
        "from rich.pretty import pprint\n",
        "\n",
        "agent = Agent(\n",
        "    model=Groq(id = \"llama-3.3-70b-versatile\", api_key = groq_api),\n",
        "    tools=[DuckDuckGoTools()],\n",
        "    # db=SqliteDb(db_file=\"tmp/agents.db\"),\n",
        "    markdown=True,\n",
        ")\n",
        "\n",
        "run_response = agent.run(\n",
        "    \"What is current news in the world?\"\n",
        ")\n",
        "\n",
        "# Print metrics per message\n",
        "if run_response.messages:\n",
        "    for message in run_response.messages:\n",
        "        if message.role == \"assistant\":\n",
        "            if message.content:\n",
        "                print(f\"Message: {message.content}\")\n",
        "            elif message.tool_calls:\n",
        "                print(f\"Tool calls: {message.tool_calls}\")\n",
        "            print(\"---\" * 5, \"Metrics\", \"---\" * 5)\n",
        "            pprint(message.metrics.to_dict())\n",
        "            print(\"---\" * 20)\n",
        "\n",
        "# Print the aggregated metrics for the whole run\n",
        "print(\"---\" * 5, \"Run Metrics\", \"---\" * 5)\n",
        "pprint(run_response.metrics.to_dict())\n",
        "# Print the aggregated metrics for the whole session\n",
        "print(\"---\" * 5, \"Session Metrics\", \"---\" * 5)\n",
        "# pprint(agent.get_session_metrics().to_dict())"
      ],
      "metadata": {
        "colab": {
          "base_uri": "https://localhost:8080/",
          "height": 996
        },
        "id": "mXwISSjrxjMn",
        "outputId": "73522f2f-740c-4772-e5ab-76566a829ed7"
      },
      "execution_count": 13,
      "outputs": [
        {
          "output_type": "stream",
          "name": "stdout",
          "text": [
            "Tool calls: [{'id': 'hpz0rdyd7', 'function': {'arguments': '{\"max_results\":10,\"query\":\"current news\"}', 'name': 'duckduckgo_news'}, 'type': 'function'}]\n",
            "--------------- Metrics ---------------\n"
          ]
        },
        {
          "output_type": "display_data",
          "data": {
            "text/plain": [
              "\u001b[1m{\u001b[0m\n",
              "\u001b[2;32m│   \u001b[0m\u001b[32m'input_tokens'\u001b[0m: \u001b[1;36m383\u001b[0m,\n",
              "\u001b[2;32m│   \u001b[0m\u001b[32m'output_tokens'\u001b[0m: \u001b[1;36m24\u001b[0m,\n",
              "\u001b[2;32m│   \u001b[0m\u001b[32m'total_tokens'\u001b[0m: \u001b[1;36m407\u001b[0m,\n",
              "\u001b[2;32m│   \u001b[0m\u001b[32m'provider_metrics'\u001b[0m: \u001b[1m{\u001b[0m\n",
              "\u001b[2;32m│   │   \u001b[0m\u001b[32m'completion_time'\u001b[0m: \u001b[1;36m0.054930298\u001b[0m,\n",
              "\u001b[2;32m│   │   \u001b[0m\u001b[32m'prompt_time'\u001b[0m: \u001b[1;36m0.033574241\u001b[0m,\n",
              "\u001b[2;32m│   │   \u001b[0m\u001b[32m'queue_time'\u001b[0m: \u001b[1;36m0.044451838\u001b[0m,\n",
              "\u001b[2;32m│   │   \u001b[0m\u001b[32m'total_time'\u001b[0m: \u001b[1;36m0.088504539\u001b[0m\n",
              "\u001b[2;32m│   \u001b[0m\u001b[1m}\u001b[0m\n",
              "\u001b[1m}\u001b[0m\n"
            ],
            "text/html": [
              "<pre style=\"white-space:pre;overflow-x:auto;line-height:normal;font-family:Menlo,'DejaVu Sans Mono',consolas,'Courier New',monospace\"><span style=\"font-weight: bold\">{</span>\n",
              "<span style=\"color: #7fbf7f; text-decoration-color: #7fbf7f\">│   </span><span style=\"color: #008000; text-decoration-color: #008000\">'input_tokens'</span>: <span style=\"color: #008080; text-decoration-color: #008080; font-weight: bold\">383</span>,\n",
              "<span style=\"color: #7fbf7f; text-decoration-color: #7fbf7f\">│   </span><span style=\"color: #008000; text-decoration-color: #008000\">'output_tokens'</span>: <span style=\"color: #008080; text-decoration-color: #008080; font-weight: bold\">24</span>,\n",
              "<span style=\"color: #7fbf7f; text-decoration-color: #7fbf7f\">│   </span><span style=\"color: #008000; text-decoration-color: #008000\">'total_tokens'</span>: <span style=\"color: #008080; text-decoration-color: #008080; font-weight: bold\">407</span>,\n",
              "<span style=\"color: #7fbf7f; text-decoration-color: #7fbf7f\">│   </span><span style=\"color: #008000; text-decoration-color: #008000\">'provider_metrics'</span>: <span style=\"font-weight: bold\">{</span>\n",
              "<span style=\"color: #7fbf7f; text-decoration-color: #7fbf7f\">│   │   </span><span style=\"color: #008000; text-decoration-color: #008000\">'completion_time'</span>: <span style=\"color: #008080; text-decoration-color: #008080; font-weight: bold\">0.054930298</span>,\n",
              "<span style=\"color: #7fbf7f; text-decoration-color: #7fbf7f\">│   │   </span><span style=\"color: #008000; text-decoration-color: #008000\">'prompt_time'</span>: <span style=\"color: #008080; text-decoration-color: #008080; font-weight: bold\">0.033574241</span>,\n",
              "<span style=\"color: #7fbf7f; text-decoration-color: #7fbf7f\">│   │   </span><span style=\"color: #008000; text-decoration-color: #008000\">'queue_time'</span>: <span style=\"color: #008080; text-decoration-color: #008080; font-weight: bold\">0.044451838</span>,\n",
              "<span style=\"color: #7fbf7f; text-decoration-color: #7fbf7f\">│   │   </span><span style=\"color: #008000; text-decoration-color: #008000\">'total_time'</span>: <span style=\"color: #008080; text-decoration-color: #008080; font-weight: bold\">0.088504539</span>\n",
              "<span style=\"color: #7fbf7f; text-decoration-color: #7fbf7f\">│   </span><span style=\"font-weight: bold\">}</span>\n",
              "<span style=\"font-weight: bold\">}</span>\n",
              "</pre>\n"
            ]
          },
          "metadata": {}
        },
        {
          "output_type": "stream",
          "name": "stdout",
          "text": [
            "------------------------------------------------------------\n",
            "Message: ### Current News in the World\n",
            "\n",
            "Here are some of the current news stories from around the world:\n",
            "\n",
            "1. **Ex-Campton Hills police chief, 2 ex-officers, 1 current cop accused of illegally selling guns**: A former west suburban police chief, two former officers, and a current police officer have been accused of illegally selling guns from an evidence room, covering it up, and other fraud.\n",
            "2. **UPDATE: Rip current statement for Coastal Pender and Coastal New Hanover Saturday evening**: The NWS Wilmington NC released an updated rip current statement in effect until 8 p.m. for Coastal Pender and Coastal New Hanover.\n",
            "3. **Current city council and school board members plan to run for NHC county commissioner in 2026**: Current members of Wilmington City Council and the New Hanover County School Board plan to run for New Hanover County Commissioner in 2026.\n",
            "4. **Cyclist beats current world champion in uphill race**: A 40-year-old cyclist has beaten the four-time Tour de France winner and current world champion in an uphill charity race.\n",
            "5. **KC Current sets single-season wins, points records with Saturday matinee victory**: The Kansas City Current held a one-goal halftime lead over NJ/NY Gotham FC during Saturday afternoon's National Women's Soccer League match at CPKC Stadium.\n",
            "6. **Brazil's central bank director says current interest rate should bring inflation back to target**: Brazil's central bank believes that since its latest policy meeting, the current level of its benchmark interest rate at 15% is sufficient to bring inflation to target.\n",
            "7. **Turkey Posts Record Current Account Surplus on Tourism, Trade**: Turkey posted a record current-account surplus in August as tourism revenues and a narrower trade gap boosted inflows, offering temporary relief to the country's external finances.\n",
            "8. **UPDATE: Rip current statement affecting Coastal Pender and Coastal New Hanover**: The NWS Wilmington NC released an updated rip current statement in effect until 8 p.m. for Coastal Pender and Coastal New Hanover.\n",
            "9. **'Where is this so-called efficiency?' Current and former FEMA employees protest Trump overhauls to disaster agency**: Federal Emergency Management Agency employees who publicly signed a letter criticizing the Trump administration's changes to the agency have been on administrative leave since August.\n",
            "10. **Current Mortgage Refinance Rates: October 16, 2025 - Rates Fall**: The rate on a 30-year fixed refinance declined to 6.32% today, according to the Mortgage Research Center.\n",
            "\n",
            "These news stories cover a range of topics, including crime, weather, sports, economics, and politics.\n",
            "--------------- Metrics ---------------\n"
          ]
        },
        {
          "output_type": "display_data",
          "data": {
            "text/plain": [
              "\u001b[1m{\u001b[0m\n",
              "\u001b[2;32m│   \u001b[0m\u001b[32m'input_tokens'\u001b[0m: \u001b[1;36m2410\u001b[0m,\n",
              "\u001b[2;32m│   \u001b[0m\u001b[32m'output_tokens'\u001b[0m: \u001b[1;36m534\u001b[0m,\n",
              "\u001b[2;32m│   \u001b[0m\u001b[32m'total_tokens'\u001b[0m: \u001b[1;36m2944\u001b[0m,\n",
              "\u001b[2;32m│   \u001b[0m\u001b[32m'provider_metrics'\u001b[0m: \u001b[1m{\u001b[0m\n",
              "\u001b[2;32m│   │   \u001b[0m\u001b[32m'completion_time'\u001b[0m: \u001b[1;36m0.976420879\u001b[0m,\n",
              "\u001b[2;32m│   │   \u001b[0m\u001b[32m'prompt_time'\u001b[0m: \u001b[1;36m0.207470136\u001b[0m,\n",
              "\u001b[2;32m│   │   \u001b[0m\u001b[32m'queue_time'\u001b[0m: \u001b[1;36m0.047665473\u001b[0m,\n",
              "\u001b[2;32m│   │   \u001b[0m\u001b[32m'total_time'\u001b[0m: \u001b[1;36m1.183891015\u001b[0m\n",
              "\u001b[2;32m│   \u001b[0m\u001b[1m}\u001b[0m\n",
              "\u001b[1m}\u001b[0m\n"
            ],
            "text/html": [
              "<pre style=\"white-space:pre;overflow-x:auto;line-height:normal;font-family:Menlo,'DejaVu Sans Mono',consolas,'Courier New',monospace\"><span style=\"font-weight: bold\">{</span>\n",
              "<span style=\"color: #7fbf7f; text-decoration-color: #7fbf7f\">│   </span><span style=\"color: #008000; text-decoration-color: #008000\">'input_tokens'</span>: <span style=\"color: #008080; text-decoration-color: #008080; font-weight: bold\">2410</span>,\n",
              "<span style=\"color: #7fbf7f; text-decoration-color: #7fbf7f\">│   </span><span style=\"color: #008000; text-decoration-color: #008000\">'output_tokens'</span>: <span style=\"color: #008080; text-decoration-color: #008080; font-weight: bold\">534</span>,\n",
              "<span style=\"color: #7fbf7f; text-decoration-color: #7fbf7f\">│   </span><span style=\"color: #008000; text-decoration-color: #008000\">'total_tokens'</span>: <span style=\"color: #008080; text-decoration-color: #008080; font-weight: bold\">2944</span>,\n",
              "<span style=\"color: #7fbf7f; text-decoration-color: #7fbf7f\">│   </span><span style=\"color: #008000; text-decoration-color: #008000\">'provider_metrics'</span>: <span style=\"font-weight: bold\">{</span>\n",
              "<span style=\"color: #7fbf7f; text-decoration-color: #7fbf7f\">│   │   </span><span style=\"color: #008000; text-decoration-color: #008000\">'completion_time'</span>: <span style=\"color: #008080; text-decoration-color: #008080; font-weight: bold\">0.976420879</span>,\n",
              "<span style=\"color: #7fbf7f; text-decoration-color: #7fbf7f\">│   │   </span><span style=\"color: #008000; text-decoration-color: #008000\">'prompt_time'</span>: <span style=\"color: #008080; text-decoration-color: #008080; font-weight: bold\">0.207470136</span>,\n",
              "<span style=\"color: #7fbf7f; text-decoration-color: #7fbf7f\">│   │   </span><span style=\"color: #008000; text-decoration-color: #008000\">'queue_time'</span>: <span style=\"color: #008080; text-decoration-color: #008080; font-weight: bold\">0.047665473</span>,\n",
              "<span style=\"color: #7fbf7f; text-decoration-color: #7fbf7f\">│   │   </span><span style=\"color: #008000; text-decoration-color: #008000\">'total_time'</span>: <span style=\"color: #008080; text-decoration-color: #008080; font-weight: bold\">1.183891015</span>\n",
              "<span style=\"color: #7fbf7f; text-decoration-color: #7fbf7f\">│   </span><span style=\"font-weight: bold\">}</span>\n",
              "<span style=\"font-weight: bold\">}</span>\n",
              "</pre>\n"
            ]
          },
          "metadata": {}
        },
        {
          "output_type": "stream",
          "name": "stdout",
          "text": [
            "------------------------------------------------------------\n",
            "--------------- Run Metrics ---------------\n"
          ]
        },
        {
          "output_type": "display_data",
          "data": {
            "text/plain": [
              "\u001b[1m{\u001b[0m\n",
              "\u001b[2;32m│   \u001b[0m\u001b[32m'input_tokens'\u001b[0m: \u001b[1;36m2793\u001b[0m,\n",
              "\u001b[2;32m│   \u001b[0m\u001b[32m'output_tokens'\u001b[0m: \u001b[1;36m558\u001b[0m,\n",
              "\u001b[2;32m│   \u001b[0m\u001b[32m'total_tokens'\u001b[0m: \u001b[1;36m3351\u001b[0m,\n",
              "\u001b[2;32m│   \u001b[0m\u001b[32m'time_to_first_token'\u001b[0m: \u001b[1;36m1.2395160599999997\u001b[0m,\n",
              "\u001b[2;32m│   \u001b[0m\u001b[32m'duration'\u001b[0m: \u001b[1;36m2.6268935869999837\u001b[0m,\n",
              "\u001b[2;32m│   \u001b[0m\u001b[32m'provider_metrics'\u001b[0m: \u001b[1m{\u001b[0m\n",
              "\u001b[2;32m│   │   \u001b[0m\u001b[32m'completion_time'\u001b[0m: \u001b[1;36m0.976420879\u001b[0m,\n",
              "\u001b[2;32m│   │   \u001b[0m\u001b[32m'prompt_time'\u001b[0m: \u001b[1;36m0.207470136\u001b[0m,\n",
              "\u001b[2;32m│   │   \u001b[0m\u001b[32m'queue_time'\u001b[0m: \u001b[1;36m0.047665473\u001b[0m,\n",
              "\u001b[2;32m│   │   \u001b[0m\u001b[32m'total_time'\u001b[0m: \u001b[1;36m1.183891015\u001b[0m\n",
              "\u001b[2;32m│   \u001b[0m\u001b[1m}\u001b[0m\n",
              "\u001b[1m}\u001b[0m\n"
            ],
            "text/html": [
              "<pre style=\"white-space:pre;overflow-x:auto;line-height:normal;font-family:Menlo,'DejaVu Sans Mono',consolas,'Courier New',monospace\"><span style=\"font-weight: bold\">{</span>\n",
              "<span style=\"color: #7fbf7f; text-decoration-color: #7fbf7f\">│   </span><span style=\"color: #008000; text-decoration-color: #008000\">'input_tokens'</span>: <span style=\"color: #008080; text-decoration-color: #008080; font-weight: bold\">2793</span>,\n",
              "<span style=\"color: #7fbf7f; text-decoration-color: #7fbf7f\">│   </span><span style=\"color: #008000; text-decoration-color: #008000\">'output_tokens'</span>: <span style=\"color: #008080; text-decoration-color: #008080; font-weight: bold\">558</span>,\n",
              "<span style=\"color: #7fbf7f; text-decoration-color: #7fbf7f\">│   </span><span style=\"color: #008000; text-decoration-color: #008000\">'total_tokens'</span>: <span style=\"color: #008080; text-decoration-color: #008080; font-weight: bold\">3351</span>,\n",
              "<span style=\"color: #7fbf7f; text-decoration-color: #7fbf7f\">│   </span><span style=\"color: #008000; text-decoration-color: #008000\">'time_to_first_token'</span>: <span style=\"color: #008080; text-decoration-color: #008080; font-weight: bold\">1.2395160599999997</span>,\n",
              "<span style=\"color: #7fbf7f; text-decoration-color: #7fbf7f\">│   </span><span style=\"color: #008000; text-decoration-color: #008000\">'duration'</span>: <span style=\"color: #008080; text-decoration-color: #008080; font-weight: bold\">2.6268935869999837</span>,\n",
              "<span style=\"color: #7fbf7f; text-decoration-color: #7fbf7f\">│   </span><span style=\"color: #008000; text-decoration-color: #008000\">'provider_metrics'</span>: <span style=\"font-weight: bold\">{</span>\n",
              "<span style=\"color: #7fbf7f; text-decoration-color: #7fbf7f\">│   │   </span><span style=\"color: #008000; text-decoration-color: #008000\">'completion_time'</span>: <span style=\"color: #008080; text-decoration-color: #008080; font-weight: bold\">0.976420879</span>,\n",
              "<span style=\"color: #7fbf7f; text-decoration-color: #7fbf7f\">│   │   </span><span style=\"color: #008000; text-decoration-color: #008000\">'prompt_time'</span>: <span style=\"color: #008080; text-decoration-color: #008080; font-weight: bold\">0.207470136</span>,\n",
              "<span style=\"color: #7fbf7f; text-decoration-color: #7fbf7f\">│   │   </span><span style=\"color: #008000; text-decoration-color: #008000\">'queue_time'</span>: <span style=\"color: #008080; text-decoration-color: #008080; font-weight: bold\">0.047665473</span>,\n",
              "<span style=\"color: #7fbf7f; text-decoration-color: #7fbf7f\">│   │   </span><span style=\"color: #008000; text-decoration-color: #008000\">'total_time'</span>: <span style=\"color: #008080; text-decoration-color: #008080; font-weight: bold\">1.183891015</span>\n",
              "<span style=\"color: #7fbf7f; text-decoration-color: #7fbf7f\">│   </span><span style=\"font-weight: bold\">}</span>\n",
              "<span style=\"font-weight: bold\">}</span>\n",
              "</pre>\n"
            ]
          },
          "metadata": {}
        },
        {
          "output_type": "stream",
          "name": "stdout",
          "text": [
            "--------------- Session Metrics ---------------\n"
          ]
        }
      ]
    },
    {
      "cell_type": "code",
      "source": [
        "from agno.team import Team\n",
        "from agno.agent import Agent\n",
        "from agno.models.openai import OpenAIChat\n",
        "\n",
        "# Create specialized agents\n",
        "news_agent = Agent(\n",
        "    name=\"News Agent\",\n",
        "    model = Groq(id = \"llama-3.3-70b-versatile\", api_key = groq_api),\n",
        "    role=\"Get the latest news and provide summaries\"\n",
        ")\n",
        "\n",
        "weather_agent = Agent(\n",
        "    name=\"Weather Agent\",\n",
        "    model=Groq(id = \"llama-3.3-70b-versatile\", api_key = groq_api),\n",
        "    role=\"Get weather information and forecasts\"\n",
        ")\n",
        "\n",
        "# Create the team\n",
        "team = Team(\n",
        "    name=\"News and Weather Team\",\n",
        "    members=[news_agent, weather_agent],\n",
        "    model=Groq(id = \"llama-3.3-70b-versatile\", api_key = groq_api),\n",
        "    instructions=\"Coordinate with team members to provide comprehensive information. Delegate tasks based on the user's request.\"\n",
        ")\n",
        "\n",
        "team.print_response(\"What's the latest news and weather in Tokyo?\", stream=True)"
      ],
      "metadata": {
        "colab": {
          "base_uri": "https://localhost:8080/",
          "height": 417,
          "referenced_widgets": [
            "83842b28634d40afa40fd37f8d2b339e",
            "188604a381d24ababd367cd0bc5e43a0"
          ]
        },
        "id": "APSPzMOTjqwo",
        "outputId": "30f9c617-a470-43f1-9bd9-b8661cbd449e"
      },
      "execution_count": 21,
      "outputs": [
        {
          "output_type": "display_data",
          "data": {
            "text/plain": [
              "Output()"
            ],
            "application/vnd.jupyter.widget-view+json": {
              "version_major": 2,
              "version_minor": 0,
              "model_id": "83842b28634d40afa40fd37f8d2b339e"
            }
          },
          "metadata": {}
        },
        {
          "output_type": "display_data",
          "data": {
            "text/plain": [],
            "text/html": [
              "<pre style=\"white-space:pre;overflow-x:auto;line-height:normal;font-family:Menlo,'DejaVu Sans Mono',consolas,'Courier New',monospace\"></pre>\n"
            ]
          },
          "metadata": {}
        }
      ]
    },
    {
      "cell_type": "code",
      "source": [
        "from agno.team import Team\n",
        "from agno.workflow import Step, Workflow\n",
        "from agno.run.workflow import WorkflowRunOutput\n",
        "\n",
        "# Define agents\n",
        "hackernews_agent = Agent(\n",
        "    name=\"Hackernews Agent\",\n",
        "    model=Groq(id = \"llama-3.3-70b-versatile\", api_key = groq_api),\n",
        "    tools=[HackerNewsTools()],\n",
        "    role=\"Extract key insights and content from Hackernews posts\",\n",
        ")\n",
        "web_agent = Agent(\n",
        "    name=\"Web Agent\",\n",
        "    model=Groq(id = \"llama-3.3-70b-versatile\", api_key = groq_api),\n",
        "    tools=[DuckDuckGoTools()],\n",
        "    role=\"Search the web for the latest news and trends\",\n",
        ")\n",
        "\n",
        "# Define research team for complex analysis\n",
        "research_team = Team(\n",
        "    name=\"Research Team\",\n",
        "    model=Groq(id = \"llama-3.3-70b-versatile\", api_key = groq_api),\n",
        "    members=[hackernews_agent, web_agent],\n",
        "    instructions=\"Research tech topics from Hackernews and the web\",\n",
        ")\n",
        "\n",
        "content_planner = Agent(\n",
        "    name=\"Content Planner\",\n",
        "    model=Groq(id = \"llama-3.3-70b-versatile\", api_key = groq_api),\n",
        "    instructions=[\n",
        "        \"Plan a content schedule over 4 weeks for the provided topic and research content\",\n",
        "        \"Ensure that I have posts for 3 posts per week\",\n",
        "    ],\n",
        ")\n",
        "\n",
        "content_creation_workflow = Workflow(\n",
        "    name=\"Content Creation Workflow\",\n",
        "    description=\"Automated content creation from blog posts to social media\",\n",
        "    steps=[research_team, content_planner],\n",
        ")\n",
        "\n"
      ],
      "metadata": {
        "id": "t0xDTUmnk2Ob"
      },
      "execution_count": 26,
      "outputs": []
    },
    {
      "cell_type": "code",
      "source": [
        "response: WorkflowRunOutput = content_creation_workflow.run(\n",
        "    message=\"AI trends in 2024\",\n",
        "    markdown=True,\n",
        ")\n",
        "\n",
        "pprint_run_response(response, markdown=True)"
      ],
      "metadata": {
        "colab": {
          "base_uri": "https://localhost:8080/",
          "height": 897
        },
        "id": "PRPbIP0XlJ93",
        "outputId": "ab0617fe-2d8d-4a7c-e962-8d0c66b57cc9"
      },
      "execution_count": 27,
      "outputs": [
        {
          "output_type": "display_data",
          "data": {
            "text/plain": [
              "\u001b[34m╭─────────────────────────────────────────────────────────────────────────────────────────────────────────────────╮\u001b[0m\n",
              "\u001b[34m│\u001b[0m Based on the provided topic and research content, I've planned a content schedule over 4 weeks with 3 posts per \u001b[34m│\u001b[0m\n",
              "\u001b[34m│\u001b[0m week. Here's the schedule:                                                                                      \u001b[34m│\u001b[0m\n",
              "\u001b[34m│\u001b[0m                                                                                                                 \u001b[34m│\u001b[0m\n",
              "\u001b[34m│\u001b[0m \u001b[1mWeek 1: Introduction to Tech Trends\u001b[0m                                                                             \u001b[34m│\u001b[0m\n",
              "\u001b[34m│\u001b[0m                                                                                                                 \u001b[34m│\u001b[0m\n",
              "\u001b[34m│\u001b[0m \u001b[1;33m 1 \u001b[0m\u001b[1mMonday\u001b[0m: \"Evolution of IDEs: How Integrated Development Environments Have Changed the Programming Landscape\"  \u001b[34m│\u001b[0m\n",
              "\u001b[34m│\u001b[0m \u001b[1;33m   \u001b[0m- This post can explore the history and advancements of IDEs, their impact on programming, and future        \u001b[34m│\u001b[0m\n",
              "\u001b[34m│\u001b[0m \u001b[1;33m   \u001b[0mdevelopments.                                                                                                \u001b[34m│\u001b[0m\n",
              "\u001b[34m│\u001b[0m \u001b[1;33m 2 \u001b[0m\u001b[1mWednesday\u001b[0m: \"The Current State of AGI and LLMs: Separating Fact from Fiction\" - This post can delve into the  \u001b[34m│\u001b[0m\n",
              "\u001b[34m│\u001b[0m \u001b[1;33m   \u001b[0mlatest research and discussions on Artificial General Intelligence (AGI) and Large Language Models (LLMs),   \u001b[34m│\u001b[0m\n",
              "\u001b[34m│\u001b[0m \u001b[1;33m   \u001b[0mhighlighting the achievements, challenges, and potential applications.                                       \u001b[34m│\u001b[0m\n",
              "\u001b[34m│\u001b[0m \u001b[1;33m 3 \u001b[0m\u001b[1mFriday\u001b[0m: \"Introducing the Latest Tech News and Trends: A Roundup from Google News, Reuters, and PCMag\" - This \u001b[34m│\u001b[0m\n",
              "\u001b[34m│\u001b[0m \u001b[1;33m   \u001b[0mpost can summarize the latest news and trends from reputable sources, providing an overview of the current   \u001b[34m│\u001b[0m\n",
              "\u001b[34m│\u001b[0m \u001b[1;33m   \u001b[0mtech landscape.                                                                                              \u001b[34m│\u001b[0m\n",
              "\u001b[34m│\u001b[0m                                                                                                                 \u001b[34m│\u001b[0m\n",
              "\u001b[34m│\u001b[0m \u001b[1mWeek 2: Deep Dive into AI and Programming\u001b[0m                                                                       \u001b[34m│\u001b[0m\n",
              "\u001b[34m│\u001b[0m                                                                                                                 \u001b[34m│\u001b[0m\n",
              "\u001b[34m│\u001b[0m \u001b[1;33m 1 \u001b[0m\u001b[1mMonday\u001b[0m: \"The Future of Programming: Emerging Trends and Technologies\" - This post can explore emerging       \u001b[34m│\u001b[0m\n",
              "\u001b[34m│\u001b[0m \u001b[1;33m   \u001b[0mtrends in programming, such as new languages, frameworks, and tools, and discuss their potential impact on   \u001b[34m│\u001b[0m\n",
              "\u001b[34m│\u001b[0m \u001b[1;33m   \u001b[0mthe industry.                                                                                                \u001b[34m│\u001b[0m\n",
              "\u001b[34m│\u001b[0m \u001b[1;33m 2 \u001b[0m\u001b[1mWednesday\u001b[0m: \"AI Applications in Real-World Scenarios: Success Stories and Lessons Learned\" - This post can    \u001b[34m│\u001b[0m\n",
              "\u001b[34m│\u001b[0m \u001b[1;33m   \u001b[0mhighlight real-world examples of AI applications, discussing the challenges, successes, and insights gained  \u001b[34m│\u001b[0m\n",
              "\u001b[34m│\u001b[0m \u001b[1;33m   \u001b[0mfrom these projects.                                                                                         \u001b[34m│\u001b[0m\n",
              "\u001b[34m│\u001b[0m \u001b[1;33m 3 \u001b[0m\u001b[1mFriday\u001b[0m: \"The Role of Open-Source Software in Shaping the Tech Industry: Benefits, Challenges, and            \u001b[34m│\u001b[0m\n",
              "\u001b[34m│\u001b[0m \u001b[1;33m   \u001b[0mOpportunities\" - This post can examine the importance of open-source software, its contributions to the tech \u001b[34m│\u001b[0m\n",
              "\u001b[34m│\u001b[0m \u001b[1;33m   \u001b[0mindustry, and the opportunities and challenges it presents.                                                  \u001b[34m│\u001b[0m\n",
              "\u001b[34m│\u001b[0m                                                                                                                 \u001b[34m│\u001b[0m\n",
              "\u001b[34m│\u001b[0m \u001b[1mWeek 3: Exploring Hardware and Emerging Tech\u001b[0m                                                                    \u001b[34m│\u001b[0m\n",
              "\u001b[34m│\u001b[0m                                                                                                                 \u001b[34m│\u001b[0m\n",
              "\u001b[34m│\u001b[0m \u001b[1;33m 1 \u001b[0m\u001b[1mMonday\u001b[0m: \"The Latest Advances in Hardware: From CPUs to GPUs and Beyond\" - This post can discuss recent       \u001b[34m│\u001b[0m\n",
              "\u001b[34m│\u001b[0m \u001b[1;33m   \u001b[0madvancements in hardware, including new processor architectures, memory technologies, and other innovations. \u001b[34m│\u001b[0m\n",
              "\u001b[34m│\u001b[0m \u001b[1;33m 2 \u001b[0m\u001b[1mWednesday\u001b[0m: \"Emerging Tech: The Intersection of AI, Blockchain, and the Internet of Things (IoT)\" - This post \u001b[34m│\u001b[0m\n",
              "\u001b[34m│\u001b[0m \u001b[1;33m   \u001b[0mcan explore the convergence of emerging technologies, discussing potential applications, challenges, and     \u001b[34m│\u001b[0m\n",
              "\u001b[34m│\u001b[0m \u001b[1;33m   \u001b[0mopportunities.                                                                                               \u001b[34m│\u001b[0m\n",
              "\u001b[34m│\u001b[0m \u001b[1;33m 3 \u001b[0m\u001b[1mFriday\u001b[0m: \"The Impact of Tech on Society: Discussing the Ethics, Privacy, and Security Implications\" - This    \u001b[34m│\u001b[0m\n",
              "\u001b[34m│\u001b[0m \u001b[1;33m   \u001b[0mpost can examine the broader social implications of tech advancements, highlighting concerns, debates, and   \u001b[34m│\u001b[0m\n",
              "\u001b[34m│\u001b[0m \u001b[1;33m   \u001b[0mpotential solutions.                                                                                         \u001b[34m│\u001b[0m\n",
              "\u001b[34m│\u001b[0m                                                                                                                 \u001b[34m│\u001b[0m\n",
              "\u001b[34m│\u001b[0m \u001b[1mWeek 4: Community Engagement and Future Outlook\u001b[0m                                                                 \u001b[34m│\u001b[0m\n",
              "\u001b[34m│\u001b[0m                                                                                                                 \u001b[34m│\u001b[0m\n",
              "\u001b[34m│\u001b[0m \u001b[1;33m 1 \u001b[0m\u001b[1mMonday\u001b[0m: \"The Importance of Community in Tech: HackerNews, Reddit, and Other Online Forums\" - This post can   \u001b[34m│\u001b[0m\n",
              "\u001b[34m│\u001b[0m \u001b[1;33m   \u001b[0mdiscuss the role of online communities in shaping the tech landscape, facilitating discussions, and driving  \u001b[34m│\u001b[0m\n",
              "\u001b[34m│\u001b[0m \u001b[1;33m   \u001b[0minnovation.                                                                                                  \u001b[34m│\u001b[0m\n",
              "\u001b[34m│\u001b[0m \u001b[1;33m 2 \u001b[0m\u001b[1mWednesday\u001b[0m: \"The Future of Tech: Predictions, Challenges, and Opportunities\" - This post can provide an       \u001b[34m│\u001b[0m\n",
              "\u001b[34m│\u001b[0m \u001b[1;33m   \u001b[0moutlook on the future of tech, discussing potential breakthroughs, challenges, and opportunities, and        \u001b[34m│\u001b[0m\n",
              "\u001b[34m│\u001b[0m \u001b[1;33m   \u001b[0mhighlighting areas to watch.                                                                                 \u001b[34m│\u001b[0m\n",
              "\u001b[34m│\u001b[0m \u001b[1;33m 3 \u001b[0m\u001b[1mFriday\u001b[0m: \"Call to Action: Participating in the Tech Conversation and Shaping the Future\" - This post can      \u001b[34m│\u001b[0m\n",
              "\u001b[34m│\u001b[0m \u001b[1;33m   \u001b[0mencourage readers to engage with the tech community, share their ideas, and contribute to the ongoing        \u001b[34m│\u001b[0m\n",
              "\u001b[34m│\u001b[0m \u001b[1;33m   \u001b[0mconversation, highlighting ways to get involved and make a difference.                                       \u001b[34m│\u001b[0m\n",
              "\u001b[34m│\u001b[0m                                                                                                                 \u001b[34m│\u001b[0m\n",
              "\u001b[34m│\u001b[0m This content schedule provides a mix of introductory posts, deep dives into specific topics, and                \u001b[34m│\u001b[0m\n",
              "\u001b[34m│\u001b[0m forward-looking discussions, catering to a wide range of interests and expertise levels. Feel free to adjust or \u001b[34m│\u001b[0m\n",
              "\u001b[34m│\u001b[0m modify the schedule as needed to suit your specific needs and goals.                                            \u001b[34m│\u001b[0m\n",
              "\u001b[34m╰─────────────────────────────────────────────────────────────────────────────────────────────────────────────────╯\u001b[0m\n"
            ],
            "text/html": [
              "<pre style=\"white-space:pre;overflow-x:auto;line-height:normal;font-family:Menlo,'DejaVu Sans Mono',consolas,'Courier New',monospace\"><span style=\"color: #000080; text-decoration-color: #000080\">╭─────────────────────────────────────────────────────────────────────────────────────────────────────────────────╮</span>\n",
              "<span style=\"color: #000080; text-decoration-color: #000080\">│</span> Based on the provided topic and research content, I've planned a content schedule over 4 weeks with 3 posts per <span style=\"color: #000080; text-decoration-color: #000080\">│</span>\n",
              "<span style=\"color: #000080; text-decoration-color: #000080\">│</span> week. Here's the schedule:                                                                                      <span style=\"color: #000080; text-decoration-color: #000080\">│</span>\n",
              "<span style=\"color: #000080; text-decoration-color: #000080\">│</span>                                                                                                                 <span style=\"color: #000080; text-decoration-color: #000080\">│</span>\n",
              "<span style=\"color: #000080; text-decoration-color: #000080\">│</span> <span style=\"font-weight: bold\">Week 1: Introduction to Tech Trends</span>                                                                             <span style=\"color: #000080; text-decoration-color: #000080\">│</span>\n",
              "<span style=\"color: #000080; text-decoration-color: #000080\">│</span>                                                                                                                 <span style=\"color: #000080; text-decoration-color: #000080\">│</span>\n",
              "<span style=\"color: #000080; text-decoration-color: #000080\">│</span> <span style=\"color: #808000; text-decoration-color: #808000; font-weight: bold\"> 1 </span><span style=\"font-weight: bold\">Monday</span>: \"Evolution of IDEs: How Integrated Development Environments Have Changed the Programming Landscape\"  <span style=\"color: #000080; text-decoration-color: #000080\">│</span>\n",
              "<span style=\"color: #000080; text-decoration-color: #000080\">│</span> <span style=\"color: #808000; text-decoration-color: #808000; font-weight: bold\">   </span>- This post can explore the history and advancements of IDEs, their impact on programming, and future        <span style=\"color: #000080; text-decoration-color: #000080\">│</span>\n",
              "<span style=\"color: #000080; text-decoration-color: #000080\">│</span> <span style=\"color: #808000; text-decoration-color: #808000; font-weight: bold\">   </span>developments.                                                                                                <span style=\"color: #000080; text-decoration-color: #000080\">│</span>\n",
              "<span style=\"color: #000080; text-decoration-color: #000080\">│</span> <span style=\"color: #808000; text-decoration-color: #808000; font-weight: bold\"> 2 </span><span style=\"font-weight: bold\">Wednesday</span>: \"The Current State of AGI and LLMs: Separating Fact from Fiction\" - This post can delve into the  <span style=\"color: #000080; text-decoration-color: #000080\">│</span>\n",
              "<span style=\"color: #000080; text-decoration-color: #000080\">│</span> <span style=\"color: #808000; text-decoration-color: #808000; font-weight: bold\">   </span>latest research and discussions on Artificial General Intelligence (AGI) and Large Language Models (LLMs),   <span style=\"color: #000080; text-decoration-color: #000080\">│</span>\n",
              "<span style=\"color: #000080; text-decoration-color: #000080\">│</span> <span style=\"color: #808000; text-decoration-color: #808000; font-weight: bold\">   </span>highlighting the achievements, challenges, and potential applications.                                       <span style=\"color: #000080; text-decoration-color: #000080\">│</span>\n",
              "<span style=\"color: #000080; text-decoration-color: #000080\">│</span> <span style=\"color: #808000; text-decoration-color: #808000; font-weight: bold\"> 3 </span><span style=\"font-weight: bold\">Friday</span>: \"Introducing the Latest Tech News and Trends: A Roundup from Google News, Reuters, and PCMag\" - This <span style=\"color: #000080; text-decoration-color: #000080\">│</span>\n",
              "<span style=\"color: #000080; text-decoration-color: #000080\">│</span> <span style=\"color: #808000; text-decoration-color: #808000; font-weight: bold\">   </span>post can summarize the latest news and trends from reputable sources, providing an overview of the current   <span style=\"color: #000080; text-decoration-color: #000080\">│</span>\n",
              "<span style=\"color: #000080; text-decoration-color: #000080\">│</span> <span style=\"color: #808000; text-decoration-color: #808000; font-weight: bold\">   </span>tech landscape.                                                                                              <span style=\"color: #000080; text-decoration-color: #000080\">│</span>\n",
              "<span style=\"color: #000080; text-decoration-color: #000080\">│</span>                                                                                                                 <span style=\"color: #000080; text-decoration-color: #000080\">│</span>\n",
              "<span style=\"color: #000080; text-decoration-color: #000080\">│</span> <span style=\"font-weight: bold\">Week 2: Deep Dive into AI and Programming</span>                                                                       <span style=\"color: #000080; text-decoration-color: #000080\">│</span>\n",
              "<span style=\"color: #000080; text-decoration-color: #000080\">│</span>                                                                                                                 <span style=\"color: #000080; text-decoration-color: #000080\">│</span>\n",
              "<span style=\"color: #000080; text-decoration-color: #000080\">│</span> <span style=\"color: #808000; text-decoration-color: #808000; font-weight: bold\"> 1 </span><span style=\"font-weight: bold\">Monday</span>: \"The Future of Programming: Emerging Trends and Technologies\" - This post can explore emerging       <span style=\"color: #000080; text-decoration-color: #000080\">│</span>\n",
              "<span style=\"color: #000080; text-decoration-color: #000080\">│</span> <span style=\"color: #808000; text-decoration-color: #808000; font-weight: bold\">   </span>trends in programming, such as new languages, frameworks, and tools, and discuss their potential impact on   <span style=\"color: #000080; text-decoration-color: #000080\">│</span>\n",
              "<span style=\"color: #000080; text-decoration-color: #000080\">│</span> <span style=\"color: #808000; text-decoration-color: #808000; font-weight: bold\">   </span>the industry.                                                                                                <span style=\"color: #000080; text-decoration-color: #000080\">│</span>\n",
              "<span style=\"color: #000080; text-decoration-color: #000080\">│</span> <span style=\"color: #808000; text-decoration-color: #808000; font-weight: bold\"> 2 </span><span style=\"font-weight: bold\">Wednesday</span>: \"AI Applications in Real-World Scenarios: Success Stories and Lessons Learned\" - This post can    <span style=\"color: #000080; text-decoration-color: #000080\">│</span>\n",
              "<span style=\"color: #000080; text-decoration-color: #000080\">│</span> <span style=\"color: #808000; text-decoration-color: #808000; font-weight: bold\">   </span>highlight real-world examples of AI applications, discussing the challenges, successes, and insights gained  <span style=\"color: #000080; text-decoration-color: #000080\">│</span>\n",
              "<span style=\"color: #000080; text-decoration-color: #000080\">│</span> <span style=\"color: #808000; text-decoration-color: #808000; font-weight: bold\">   </span>from these projects.                                                                                         <span style=\"color: #000080; text-decoration-color: #000080\">│</span>\n",
              "<span style=\"color: #000080; text-decoration-color: #000080\">│</span> <span style=\"color: #808000; text-decoration-color: #808000; font-weight: bold\"> 3 </span><span style=\"font-weight: bold\">Friday</span>: \"The Role of Open-Source Software in Shaping the Tech Industry: Benefits, Challenges, and            <span style=\"color: #000080; text-decoration-color: #000080\">│</span>\n",
              "<span style=\"color: #000080; text-decoration-color: #000080\">│</span> <span style=\"color: #808000; text-decoration-color: #808000; font-weight: bold\">   </span>Opportunities\" - This post can examine the importance of open-source software, its contributions to the tech <span style=\"color: #000080; text-decoration-color: #000080\">│</span>\n",
              "<span style=\"color: #000080; text-decoration-color: #000080\">│</span> <span style=\"color: #808000; text-decoration-color: #808000; font-weight: bold\">   </span>industry, and the opportunities and challenges it presents.                                                  <span style=\"color: #000080; text-decoration-color: #000080\">│</span>\n",
              "<span style=\"color: #000080; text-decoration-color: #000080\">│</span>                                                                                                                 <span style=\"color: #000080; text-decoration-color: #000080\">│</span>\n",
              "<span style=\"color: #000080; text-decoration-color: #000080\">│</span> <span style=\"font-weight: bold\">Week 3: Exploring Hardware and Emerging Tech</span>                                                                    <span style=\"color: #000080; text-decoration-color: #000080\">│</span>\n",
              "<span style=\"color: #000080; text-decoration-color: #000080\">│</span>                                                                                                                 <span style=\"color: #000080; text-decoration-color: #000080\">│</span>\n",
              "<span style=\"color: #000080; text-decoration-color: #000080\">│</span> <span style=\"color: #808000; text-decoration-color: #808000; font-weight: bold\"> 1 </span><span style=\"font-weight: bold\">Monday</span>: \"The Latest Advances in Hardware: From CPUs to GPUs and Beyond\" - This post can discuss recent       <span style=\"color: #000080; text-decoration-color: #000080\">│</span>\n",
              "<span style=\"color: #000080; text-decoration-color: #000080\">│</span> <span style=\"color: #808000; text-decoration-color: #808000; font-weight: bold\">   </span>advancements in hardware, including new processor architectures, memory technologies, and other innovations. <span style=\"color: #000080; text-decoration-color: #000080\">│</span>\n",
              "<span style=\"color: #000080; text-decoration-color: #000080\">│</span> <span style=\"color: #808000; text-decoration-color: #808000; font-weight: bold\"> 2 </span><span style=\"font-weight: bold\">Wednesday</span>: \"Emerging Tech: The Intersection of AI, Blockchain, and the Internet of Things (IoT)\" - This post <span style=\"color: #000080; text-decoration-color: #000080\">│</span>\n",
              "<span style=\"color: #000080; text-decoration-color: #000080\">│</span> <span style=\"color: #808000; text-decoration-color: #808000; font-weight: bold\">   </span>can explore the convergence of emerging technologies, discussing potential applications, challenges, and     <span style=\"color: #000080; text-decoration-color: #000080\">│</span>\n",
              "<span style=\"color: #000080; text-decoration-color: #000080\">│</span> <span style=\"color: #808000; text-decoration-color: #808000; font-weight: bold\">   </span>opportunities.                                                                                               <span style=\"color: #000080; text-decoration-color: #000080\">│</span>\n",
              "<span style=\"color: #000080; text-decoration-color: #000080\">│</span> <span style=\"color: #808000; text-decoration-color: #808000; font-weight: bold\"> 3 </span><span style=\"font-weight: bold\">Friday</span>: \"The Impact of Tech on Society: Discussing the Ethics, Privacy, and Security Implications\" - This    <span style=\"color: #000080; text-decoration-color: #000080\">│</span>\n",
              "<span style=\"color: #000080; text-decoration-color: #000080\">│</span> <span style=\"color: #808000; text-decoration-color: #808000; font-weight: bold\">   </span>post can examine the broader social implications of tech advancements, highlighting concerns, debates, and   <span style=\"color: #000080; text-decoration-color: #000080\">│</span>\n",
              "<span style=\"color: #000080; text-decoration-color: #000080\">│</span> <span style=\"color: #808000; text-decoration-color: #808000; font-weight: bold\">   </span>potential solutions.                                                                                         <span style=\"color: #000080; text-decoration-color: #000080\">│</span>\n",
              "<span style=\"color: #000080; text-decoration-color: #000080\">│</span>                                                                                                                 <span style=\"color: #000080; text-decoration-color: #000080\">│</span>\n",
              "<span style=\"color: #000080; text-decoration-color: #000080\">│</span> <span style=\"font-weight: bold\">Week 4: Community Engagement and Future Outlook</span>                                                                 <span style=\"color: #000080; text-decoration-color: #000080\">│</span>\n",
              "<span style=\"color: #000080; text-decoration-color: #000080\">│</span>                                                                                                                 <span style=\"color: #000080; text-decoration-color: #000080\">│</span>\n",
              "<span style=\"color: #000080; text-decoration-color: #000080\">│</span> <span style=\"color: #808000; text-decoration-color: #808000; font-weight: bold\"> 1 </span><span style=\"font-weight: bold\">Monday</span>: \"The Importance of Community in Tech: HackerNews, Reddit, and Other Online Forums\" - This post can   <span style=\"color: #000080; text-decoration-color: #000080\">│</span>\n",
              "<span style=\"color: #000080; text-decoration-color: #000080\">│</span> <span style=\"color: #808000; text-decoration-color: #808000; font-weight: bold\">   </span>discuss the role of online communities in shaping the tech landscape, facilitating discussions, and driving  <span style=\"color: #000080; text-decoration-color: #000080\">│</span>\n",
              "<span style=\"color: #000080; text-decoration-color: #000080\">│</span> <span style=\"color: #808000; text-decoration-color: #808000; font-weight: bold\">   </span>innovation.                                                                                                  <span style=\"color: #000080; text-decoration-color: #000080\">│</span>\n",
              "<span style=\"color: #000080; text-decoration-color: #000080\">│</span> <span style=\"color: #808000; text-decoration-color: #808000; font-weight: bold\"> 2 </span><span style=\"font-weight: bold\">Wednesday</span>: \"The Future of Tech: Predictions, Challenges, and Opportunities\" - This post can provide an       <span style=\"color: #000080; text-decoration-color: #000080\">│</span>\n",
              "<span style=\"color: #000080; text-decoration-color: #000080\">│</span> <span style=\"color: #808000; text-decoration-color: #808000; font-weight: bold\">   </span>outlook on the future of tech, discussing potential breakthroughs, challenges, and opportunities, and        <span style=\"color: #000080; text-decoration-color: #000080\">│</span>\n",
              "<span style=\"color: #000080; text-decoration-color: #000080\">│</span> <span style=\"color: #808000; text-decoration-color: #808000; font-weight: bold\">   </span>highlighting areas to watch.                                                                                 <span style=\"color: #000080; text-decoration-color: #000080\">│</span>\n",
              "<span style=\"color: #000080; text-decoration-color: #000080\">│</span> <span style=\"color: #808000; text-decoration-color: #808000; font-weight: bold\"> 3 </span><span style=\"font-weight: bold\">Friday</span>: \"Call to Action: Participating in the Tech Conversation and Shaping the Future\" - This post can      <span style=\"color: #000080; text-decoration-color: #000080\">│</span>\n",
              "<span style=\"color: #000080; text-decoration-color: #000080\">│</span> <span style=\"color: #808000; text-decoration-color: #808000; font-weight: bold\">   </span>encourage readers to engage with the tech community, share their ideas, and contribute to the ongoing        <span style=\"color: #000080; text-decoration-color: #000080\">│</span>\n",
              "<span style=\"color: #000080; text-decoration-color: #000080\">│</span> <span style=\"color: #808000; text-decoration-color: #808000; font-weight: bold\">   </span>conversation, highlighting ways to get involved and make a difference.                                       <span style=\"color: #000080; text-decoration-color: #000080\">│</span>\n",
              "<span style=\"color: #000080; text-decoration-color: #000080\">│</span>                                                                                                                 <span style=\"color: #000080; text-decoration-color: #000080\">│</span>\n",
              "<span style=\"color: #000080; text-decoration-color: #000080\">│</span> This content schedule provides a mix of introductory posts, deep dives into specific topics, and                <span style=\"color: #000080; text-decoration-color: #000080\">│</span>\n",
              "<span style=\"color: #000080; text-decoration-color: #000080\">│</span> forward-looking discussions, catering to a wide range of interests and expertise levels. Feel free to adjust or <span style=\"color: #000080; text-decoration-color: #000080\">│</span>\n",
              "<span style=\"color: #000080; text-decoration-color: #000080\">│</span> modify the schedule as needed to suit your specific needs and goals.                                            <span style=\"color: #000080; text-decoration-color: #000080\">│</span>\n",
              "<span style=\"color: #000080; text-decoration-color: #000080\">╰─────────────────────────────────────────────────────────────────────────────────────────────────────────────────╯</span>\n",
              "</pre>\n"
            ]
          },
          "metadata": {}
        }
      ]
    },
    {
      "cell_type": "code",
      "source": [
        "# Setup your Agent using an extra reasoning model\n",
        "deepseek_plus_claude = Agent(\n",
        "    model=Groq(id = \"llama-3.3-70b-versatile\", api_key = groq_api),\n",
        "    reasoning_model=Groq(\n",
        "        id=\"qwen/qwen3-32b\", temperature=0.6, max_tokens=1024, top_p=0.95, api_key=groq_api\n",
        "    ),\n",
        ")\n",
        "\n",
        "# Run the Agent\n",
        "deepseek_plus_claude.print_response(\"9.11 and 9.9 -- which is bigger?\", stream=True)"
      ],
      "metadata": {
        "colab": {
          "base_uri": "https://localhost:8080/",
          "height": 483,
          "referenced_widgets": [
            "f658721d5869405eb07f6f9ecd172891",
            "908c282fc31f4f7081fb2bd826921d50"
          ]
        },
        "id": "auSPLg7PlmxR",
        "outputId": "1e122354-3a24-446d-95d3-c4dfccc445cc"
      },
      "execution_count": 40,
      "outputs": [
        {
          "output_type": "display_data",
          "data": {
            "text/plain": [
              "\u001b[33mWARNING \u001b[0m Reasoning model: Groq is not a native reasoning model, defaulting to manual Chain-of-Thought reasoning    \n"
            ],
            "text/html": [
              "<pre style=\"white-space:pre;overflow-x:auto;line-height:normal;font-family:Menlo,'DejaVu Sans Mono',consolas,'Courier New',monospace\"><span style=\"color: #808000; text-decoration-color: #808000\">WARNING </span> Reasoning model: Groq is not a native reasoning model, defaulting to manual Chain-of-Thought reasoning    \n",
              "</pre>\n"
            ]
          },
          "metadata": {}
        },
        {
          "output_type": "display_data",
          "data": {
            "text/plain": [
              "Output()"
            ],
            "application/vnd.jupyter.widget-view+json": {
              "version_major": 2,
              "version_minor": 0,
              "model_id": "f658721d5869405eb07f6f9ecd172891"
            }
          },
          "metadata": {}
        },
        {
          "output_type": "display_data",
          "data": {
            "text/plain": [],
            "text/html": [
              "<pre style=\"white-space:pre;overflow-x:auto;line-height:normal;font-family:Menlo,'DejaVu Sans Mono',consolas,'Courier New',monospace\"></pre>\n"
            ]
          },
          "metadata": {}
        }
      ]
    },
    {
      "cell_type": "code",
      "source": [],
      "metadata": {
        "id": "TkBvjldAvT9R"
      },
      "execution_count": null,
      "outputs": []
    }
  ]
}